{
 "cells": [
  {
   "cell_type": "code",
   "execution_count": 1,
   "id": "06edefe4",
   "metadata": {
    "_cell_guid": "b1076dfc-b9ad-4769-8c92-a6c4dae69d19",
    "_uuid": "8f2839f25d086af736a60e9eeb907d3b93b6e0e5",
    "execution": {
     "iopub.execute_input": "2023-03-24T16:49:45.452143Z",
     "iopub.status.busy": "2023-03-24T16:49:45.450977Z",
     "iopub.status.idle": "2023-03-24T16:49:45.464971Z",
     "shell.execute_reply": "2023-03-24T16:49:45.464131Z"
    },
    "papermill": {
     "duration": 0.036616,
     "end_time": "2023-03-24T16:49:45.467937",
     "exception": false,
     "start_time": "2023-03-24T16:49:45.431321",
     "status": "completed"
    },
    "tags": []
   },
   "outputs": [
    {
     "name": "stdout",
     "output_type": "stream",
     "text": [
      "/kaggle/input/titanic/train.csv\n",
      "/kaggle/input/titanic/test.csv\n",
      "/kaggle/input/titanic/gender_submission.csv\n"
     ]
    }
   ],
   "source": [
    "# This Python 3 environment comes with many helpful analytics libraries installed\n",
    "# It is defined by the kaggle/python Docker image: https://github.com/kaggle/docker-python\n",
    "# For example, here's several helpful packages to load\n",
    "\n",
    "import numpy as np # linear algebra\n",
    "import pandas as pd # data processing, CSV file I/O (e.g. pd.read_csv)\n",
    "\n",
    "# Input data files are available in the read-only \"../input/\" directory\n",
    "# For example, running this (by clicking run or pressing Shift+Enter) will list all files under the input directory\n",
    "\n",
    "import os\n",
    "for dirname, _, filenames in os.walk('/kaggle/input'):\n",
    "    for filename in filenames:\n",
    "        print(os.path.join(dirname, filename))\n",
    "\n",
    "# You can write up to 20GB to the current directory (/kaggle/working/) that gets preserved as output when you create a version using \"Save & Run All\" \n",
    "# You can also write temporary files to /kaggle/temp/, but they won't be saved outside of the current session"
   ]
  },
  {
   "cell_type": "code",
   "execution_count": 2,
   "id": "f41c000d",
   "metadata": {
    "execution": {
     "iopub.execute_input": "2023-03-24T16:49:45.502826Z",
     "iopub.status.busy": "2023-03-24T16:49:45.502030Z",
     "iopub.status.idle": "2023-03-24T16:49:45.531891Z",
     "shell.execute_reply": "2023-03-24T16:49:45.530811Z"
    },
    "papermill": {
     "duration": 0.050466,
     "end_time": "2023-03-24T16:49:45.534938",
     "exception": false,
     "start_time": "2023-03-24T16:49:45.484472",
     "status": "completed"
    },
    "tags": []
   },
   "outputs": [],
   "source": [
    "#Read in the given data files\n",
    "titanic_train = pd.read_csv('../input/titanic/train.csv')\n",
    "titanic_test = pd.read_csv('../input/titanic/test.csv')"
   ]
  },
  {
   "cell_type": "markdown",
   "id": "b6a0ae60",
   "metadata": {
    "papermill": {
     "duration": 0.016554,
     "end_time": "2023-03-24T16:49:45.568849",
     "exception": false,
     "start_time": "2023-03-24T16:49:45.552295",
     "status": "completed"
    },
    "tags": []
   },
   "source": [
    "### Results\n",
    "Best Model on test data for comp:\n",
    "\n",
    "Model Parameters:\n",
    "\n",
    "Best Model during training and evaluation:\n",
    "\n",
    "Model Parameters:\n",
    "\n",
    "Model Accuracy during training:\n",
    "\n",
    "Model Accuracy on test data for comp:"
   ]
  },
  {
   "cell_type": "markdown",
   "id": "82cbd5e8",
   "metadata": {
    "papermill": {
     "duration": 0.0164,
     "end_time": "2023-03-24T16:49:45.602205",
     "exception": false,
     "start_time": "2023-03-24T16:49:45.585805",
     "status": "completed"
    },
    "tags": []
   },
   "source": [
    "### Process:\n",
    "* Get basic info\n",
    "* Use various plots to visualize relationships\n",
    "    * Compare features against survived\n",
    "* Feature engineering\n",
    "* Determine final data setup and standardize\n",
    "* Train and evaluate models\n",
    "    * Naive Bayes (Gaussian (GNB) and Bernoulli (BNB))\n",
    "    * Support Vector Machine (SVC)\n",
    "    * Logistic Regression (LR)\n",
    "    * K-nearest neighbors (KNN)\n",
    "    * Decision Tree Classifier (DTC)\n",
    "    * Random Forest Classifier (RFC)\n",
    "* Check all models on "
   ]
  },
  {
   "cell_type": "code",
   "execution_count": 3,
   "id": "ee7ee462",
   "metadata": {
    "execution": {
     "iopub.execute_input": "2023-03-24T16:49:45.638044Z",
     "iopub.status.busy": "2023-03-24T16:49:45.637601Z",
     "iopub.status.idle": "2023-03-24T16:49:45.645715Z",
     "shell.execute_reply": "2023-03-24T16:49:45.644768Z"
    },
    "papermill": {
     "duration": 0.029405,
     "end_time": "2023-03-24T16:49:45.648279",
     "exception": false,
     "start_time": "2023-03-24T16:49:45.618874",
     "status": "completed"
    },
    "tags": []
   },
   "outputs": [
    {
     "data": {
      "text/plain": [
       "(891, 12)"
      ]
     },
     "execution_count": 3,
     "metadata": {},
     "output_type": "execute_result"
    }
   ],
   "source": [
    "# Shape of the training data\n",
    "titanic_train.shape"
   ]
  },
  {
   "cell_type": "code",
   "execution_count": 4,
   "id": "23344511",
   "metadata": {
    "execution": {
     "iopub.execute_input": "2023-03-24T16:49:45.684102Z",
     "iopub.status.busy": "2023-03-24T16:49:45.683638Z",
     "iopub.status.idle": "2023-03-24T16:49:45.690795Z",
     "shell.execute_reply": "2023-03-24T16:49:45.689683Z"
    },
    "papermill": {
     "duration": 0.027494,
     "end_time": "2023-03-24T16:49:45.693060",
     "exception": false,
     "start_time": "2023-03-24T16:49:45.665566",
     "status": "completed"
    },
    "tags": []
   },
   "outputs": [
    {
     "data": {
      "text/plain": [
       "(418, 11)"
      ]
     },
     "execution_count": 4,
     "metadata": {},
     "output_type": "execute_result"
    }
   ],
   "source": [
    "# Shape of the test data\n",
    "titanic_test.shape"
   ]
  },
  {
   "cell_type": "code",
   "execution_count": 5,
   "id": "99b0c2b0",
   "metadata": {
    "execution": {
     "iopub.execute_input": "2023-03-24T16:49:45.728632Z",
     "iopub.status.busy": "2023-03-24T16:49:45.728188Z",
     "iopub.status.idle": "2023-03-24T16:49:45.735770Z",
     "shell.execute_reply": "2023-03-24T16:49:45.734533Z"
    },
    "papermill": {
     "duration": 0.028278,
     "end_time": "2023-03-24T16:49:45.738237",
     "exception": false,
     "start_time": "2023-03-24T16:49:45.709959",
     "status": "completed"
    },
    "tags": []
   },
   "outputs": [
    {
     "data": {
      "text/plain": [
       "0.680672268907563"
      ]
     },
     "execution_count": 5,
     "metadata": {},
     "output_type": "execute_result"
    }
   ],
   "source": [
    "891/(418+891)"
   ]
  },
  {
   "cell_type": "markdown",
   "id": "c4dcc4ac",
   "metadata": {
    "papermill": {
     "duration": 0.016678,
     "end_time": "2023-03-24T16:49:45.772773",
     "exception": false,
     "start_time": "2023-03-24T16:49:45.756095",
     "status": "completed"
    },
    "tags": []
   },
   "source": [
    "Note: Training set is ~68% of total data"
   ]
  },
  {
   "cell_type": "code",
   "execution_count": 6,
   "id": "f04480d4",
   "metadata": {
    "execution": {
     "iopub.execute_input": "2023-03-24T16:49:45.809765Z",
     "iopub.status.busy": "2023-03-24T16:49:45.809317Z",
     "iopub.status.idle": "2023-03-24T16:49:45.858115Z",
     "shell.execute_reply": "2023-03-24T16:49:45.856835Z"
    },
    "papermill": {
     "duration": 0.070859,
     "end_time": "2023-03-24T16:49:45.860618",
     "exception": false,
     "start_time": "2023-03-24T16:49:45.789759",
     "status": "completed"
    },
    "tags": []
   },
   "outputs": [
    {
     "data": {
      "text/html": [
       "<div>\n",
       "<style scoped>\n",
       "    .dataframe tbody tr th:only-of-type {\n",
       "        vertical-align: middle;\n",
       "    }\n",
       "\n",
       "    .dataframe tbody tr th {\n",
       "        vertical-align: top;\n",
       "    }\n",
       "\n",
       "    .dataframe thead th {\n",
       "        text-align: right;\n",
       "    }\n",
       "</style>\n",
       "<table border=\"1\" class=\"dataframe\">\n",
       "  <thead>\n",
       "    <tr style=\"text-align: right;\">\n",
       "      <th></th>\n",
       "      <th>PassengerId</th>\n",
       "      <th>Survived</th>\n",
       "      <th>Pclass</th>\n",
       "      <th>Age</th>\n",
       "      <th>SibSp</th>\n",
       "      <th>Parch</th>\n",
       "      <th>Fare</th>\n",
       "    </tr>\n",
       "  </thead>\n",
       "  <tbody>\n",
       "    <tr>\n",
       "      <th>count</th>\n",
       "      <td>891.000000</td>\n",
       "      <td>891.000000</td>\n",
       "      <td>891.000000</td>\n",
       "      <td>714.000000</td>\n",
       "      <td>891.000000</td>\n",
       "      <td>891.000000</td>\n",
       "      <td>891.000000</td>\n",
       "    </tr>\n",
       "    <tr>\n",
       "      <th>mean</th>\n",
       "      <td>446.000000</td>\n",
       "      <td>0.383838</td>\n",
       "      <td>2.308642</td>\n",
       "      <td>29.699118</td>\n",
       "      <td>0.523008</td>\n",
       "      <td>0.381594</td>\n",
       "      <td>32.204208</td>\n",
       "    </tr>\n",
       "    <tr>\n",
       "      <th>std</th>\n",
       "      <td>257.353842</td>\n",
       "      <td>0.486592</td>\n",
       "      <td>0.836071</td>\n",
       "      <td>14.526497</td>\n",
       "      <td>1.102743</td>\n",
       "      <td>0.806057</td>\n",
       "      <td>49.693429</td>\n",
       "    </tr>\n",
       "    <tr>\n",
       "      <th>min</th>\n",
       "      <td>1.000000</td>\n",
       "      <td>0.000000</td>\n",
       "      <td>1.000000</td>\n",
       "      <td>0.420000</td>\n",
       "      <td>0.000000</td>\n",
       "      <td>0.000000</td>\n",
       "      <td>0.000000</td>\n",
       "    </tr>\n",
       "    <tr>\n",
       "      <th>25%</th>\n",
       "      <td>223.500000</td>\n",
       "      <td>0.000000</td>\n",
       "      <td>2.000000</td>\n",
       "      <td>20.125000</td>\n",
       "      <td>0.000000</td>\n",
       "      <td>0.000000</td>\n",
       "      <td>7.910400</td>\n",
       "    </tr>\n",
       "    <tr>\n",
       "      <th>50%</th>\n",
       "      <td>446.000000</td>\n",
       "      <td>0.000000</td>\n",
       "      <td>3.000000</td>\n",
       "      <td>28.000000</td>\n",
       "      <td>0.000000</td>\n",
       "      <td>0.000000</td>\n",
       "      <td>14.454200</td>\n",
       "    </tr>\n",
       "    <tr>\n",
       "      <th>75%</th>\n",
       "      <td>668.500000</td>\n",
       "      <td>1.000000</td>\n",
       "      <td>3.000000</td>\n",
       "      <td>38.000000</td>\n",
       "      <td>1.000000</td>\n",
       "      <td>0.000000</td>\n",
       "      <td>31.000000</td>\n",
       "    </tr>\n",
       "    <tr>\n",
       "      <th>max</th>\n",
       "      <td>891.000000</td>\n",
       "      <td>1.000000</td>\n",
       "      <td>3.000000</td>\n",
       "      <td>80.000000</td>\n",
       "      <td>8.000000</td>\n",
       "      <td>6.000000</td>\n",
       "      <td>512.329200</td>\n",
       "    </tr>\n",
       "  </tbody>\n",
       "</table>\n",
       "</div>"
      ],
      "text/plain": [
       "       PassengerId    Survived      Pclass         Age       SibSp  \\\n",
       "count   891.000000  891.000000  891.000000  714.000000  891.000000   \n",
       "mean    446.000000    0.383838    2.308642   29.699118    0.523008   \n",
       "std     257.353842    0.486592    0.836071   14.526497    1.102743   \n",
       "min       1.000000    0.000000    1.000000    0.420000    0.000000   \n",
       "25%     223.500000    0.000000    2.000000   20.125000    0.000000   \n",
       "50%     446.000000    0.000000    3.000000   28.000000    0.000000   \n",
       "75%     668.500000    1.000000    3.000000   38.000000    1.000000   \n",
       "max     891.000000    1.000000    3.000000   80.000000    8.000000   \n",
       "\n",
       "            Parch        Fare  \n",
       "count  891.000000  891.000000  \n",
       "mean     0.381594   32.204208  \n",
       "std      0.806057   49.693429  \n",
       "min      0.000000    0.000000  \n",
       "25%      0.000000    7.910400  \n",
       "50%      0.000000   14.454200  \n",
       "75%      0.000000   31.000000  \n",
       "max      6.000000  512.329200  "
      ]
     },
     "execution_count": 6,
     "metadata": {},
     "output_type": "execute_result"
    }
   ],
   "source": [
    "titanic_train.describe()"
   ]
  },
  {
   "cell_type": "code",
   "execution_count": 7,
   "id": "84c333b0",
   "metadata": {
    "execution": {
     "iopub.execute_input": "2023-03-24T16:49:45.898412Z",
     "iopub.status.busy": "2023-03-24T16:49:45.897964Z",
     "iopub.status.idle": "2023-03-24T16:49:45.946326Z",
     "shell.execute_reply": "2023-03-24T16:49:45.945114Z"
    },
    "papermill": {
     "duration": 0.070786,
     "end_time": "2023-03-24T16:49:45.949208",
     "exception": false,
     "start_time": "2023-03-24T16:49:45.878422",
     "status": "completed"
    },
    "tags": []
   },
   "outputs": [
    {
     "data": {
      "text/html": [
       "<div>\n",
       "<style scoped>\n",
       "    .dataframe tbody tr th:only-of-type {\n",
       "        vertical-align: middle;\n",
       "    }\n",
       "\n",
       "    .dataframe tbody tr th {\n",
       "        vertical-align: top;\n",
       "    }\n",
       "\n",
       "    .dataframe thead th {\n",
       "        text-align: right;\n",
       "    }\n",
       "</style>\n",
       "<table border=\"1\" class=\"dataframe\">\n",
       "  <thead>\n",
       "    <tr style=\"text-align: right;\">\n",
       "      <th></th>\n",
       "      <th>PassengerId</th>\n",
       "      <th>Survived</th>\n",
       "      <th>Pclass</th>\n",
       "      <th>Name</th>\n",
       "      <th>Sex</th>\n",
       "      <th>Age</th>\n",
       "      <th>SibSp</th>\n",
       "      <th>Parch</th>\n",
       "      <th>Ticket</th>\n",
       "      <th>Fare</th>\n",
       "      <th>Cabin</th>\n",
       "      <th>Embarked</th>\n",
       "    </tr>\n",
       "  </thead>\n",
       "  <tbody>\n",
       "    <tr>\n",
       "      <th>count</th>\n",
       "      <td>891.000000</td>\n",
       "      <td>891.000000</td>\n",
       "      <td>891.000000</td>\n",
       "      <td>891</td>\n",
       "      <td>891</td>\n",
       "      <td>714.000000</td>\n",
       "      <td>891.000000</td>\n",
       "      <td>891.000000</td>\n",
       "      <td>891</td>\n",
       "      <td>891.000000</td>\n",
       "      <td>204</td>\n",
       "      <td>889</td>\n",
       "    </tr>\n",
       "    <tr>\n",
       "      <th>unique</th>\n",
       "      <td>NaN</td>\n",
       "      <td>NaN</td>\n",
       "      <td>NaN</td>\n",
       "      <td>891</td>\n",
       "      <td>2</td>\n",
       "      <td>NaN</td>\n",
       "      <td>NaN</td>\n",
       "      <td>NaN</td>\n",
       "      <td>681</td>\n",
       "      <td>NaN</td>\n",
       "      <td>147</td>\n",
       "      <td>3</td>\n",
       "    </tr>\n",
       "    <tr>\n",
       "      <th>top</th>\n",
       "      <td>NaN</td>\n",
       "      <td>NaN</td>\n",
       "      <td>NaN</td>\n",
       "      <td>Braund, Mr. Owen Harris</td>\n",
       "      <td>male</td>\n",
       "      <td>NaN</td>\n",
       "      <td>NaN</td>\n",
       "      <td>NaN</td>\n",
       "      <td>347082</td>\n",
       "      <td>NaN</td>\n",
       "      <td>B96 B98</td>\n",
       "      <td>S</td>\n",
       "    </tr>\n",
       "    <tr>\n",
       "      <th>freq</th>\n",
       "      <td>NaN</td>\n",
       "      <td>NaN</td>\n",
       "      <td>NaN</td>\n",
       "      <td>1</td>\n",
       "      <td>577</td>\n",
       "      <td>NaN</td>\n",
       "      <td>NaN</td>\n",
       "      <td>NaN</td>\n",
       "      <td>7</td>\n",
       "      <td>NaN</td>\n",
       "      <td>4</td>\n",
       "      <td>644</td>\n",
       "    </tr>\n",
       "    <tr>\n",
       "      <th>mean</th>\n",
       "      <td>446.000000</td>\n",
       "      <td>0.383838</td>\n",
       "      <td>2.308642</td>\n",
       "      <td>NaN</td>\n",
       "      <td>NaN</td>\n",
       "      <td>29.699118</td>\n",
       "      <td>0.523008</td>\n",
       "      <td>0.381594</td>\n",
       "      <td>NaN</td>\n",
       "      <td>32.204208</td>\n",
       "      <td>NaN</td>\n",
       "      <td>NaN</td>\n",
       "    </tr>\n",
       "    <tr>\n",
       "      <th>std</th>\n",
       "      <td>257.353842</td>\n",
       "      <td>0.486592</td>\n",
       "      <td>0.836071</td>\n",
       "      <td>NaN</td>\n",
       "      <td>NaN</td>\n",
       "      <td>14.526497</td>\n",
       "      <td>1.102743</td>\n",
       "      <td>0.806057</td>\n",
       "      <td>NaN</td>\n",
       "      <td>49.693429</td>\n",
       "      <td>NaN</td>\n",
       "      <td>NaN</td>\n",
       "    </tr>\n",
       "    <tr>\n",
       "      <th>min</th>\n",
       "      <td>1.000000</td>\n",
       "      <td>0.000000</td>\n",
       "      <td>1.000000</td>\n",
       "      <td>NaN</td>\n",
       "      <td>NaN</td>\n",
       "      <td>0.420000</td>\n",
       "      <td>0.000000</td>\n",
       "      <td>0.000000</td>\n",
       "      <td>NaN</td>\n",
       "      <td>0.000000</td>\n",
       "      <td>NaN</td>\n",
       "      <td>NaN</td>\n",
       "    </tr>\n",
       "    <tr>\n",
       "      <th>25%</th>\n",
       "      <td>223.500000</td>\n",
       "      <td>0.000000</td>\n",
       "      <td>2.000000</td>\n",
       "      <td>NaN</td>\n",
       "      <td>NaN</td>\n",
       "      <td>20.125000</td>\n",
       "      <td>0.000000</td>\n",
       "      <td>0.000000</td>\n",
       "      <td>NaN</td>\n",
       "      <td>7.910400</td>\n",
       "      <td>NaN</td>\n",
       "      <td>NaN</td>\n",
       "    </tr>\n",
       "    <tr>\n",
       "      <th>50%</th>\n",
       "      <td>446.000000</td>\n",
       "      <td>0.000000</td>\n",
       "      <td>3.000000</td>\n",
       "      <td>NaN</td>\n",
       "      <td>NaN</td>\n",
       "      <td>28.000000</td>\n",
       "      <td>0.000000</td>\n",
       "      <td>0.000000</td>\n",
       "      <td>NaN</td>\n",
       "      <td>14.454200</td>\n",
       "      <td>NaN</td>\n",
       "      <td>NaN</td>\n",
       "    </tr>\n",
       "    <tr>\n",
       "      <th>75%</th>\n",
       "      <td>668.500000</td>\n",
       "      <td>1.000000</td>\n",
       "      <td>3.000000</td>\n",
       "      <td>NaN</td>\n",
       "      <td>NaN</td>\n",
       "      <td>38.000000</td>\n",
       "      <td>1.000000</td>\n",
       "      <td>0.000000</td>\n",
       "      <td>NaN</td>\n",
       "      <td>31.000000</td>\n",
       "      <td>NaN</td>\n",
       "      <td>NaN</td>\n",
       "    </tr>\n",
       "    <tr>\n",
       "      <th>max</th>\n",
       "      <td>891.000000</td>\n",
       "      <td>1.000000</td>\n",
       "      <td>3.000000</td>\n",
       "      <td>NaN</td>\n",
       "      <td>NaN</td>\n",
       "      <td>80.000000</td>\n",
       "      <td>8.000000</td>\n",
       "      <td>6.000000</td>\n",
       "      <td>NaN</td>\n",
       "      <td>512.329200</td>\n",
       "      <td>NaN</td>\n",
       "      <td>NaN</td>\n",
       "    </tr>\n",
       "  </tbody>\n",
       "</table>\n",
       "</div>"
      ],
      "text/plain": [
       "        PassengerId    Survived      Pclass                     Name   Sex  \\\n",
       "count    891.000000  891.000000  891.000000                      891   891   \n",
       "unique          NaN         NaN         NaN                      891     2   \n",
       "top             NaN         NaN         NaN  Braund, Mr. Owen Harris  male   \n",
       "freq            NaN         NaN         NaN                        1   577   \n",
       "mean     446.000000    0.383838    2.308642                      NaN   NaN   \n",
       "std      257.353842    0.486592    0.836071                      NaN   NaN   \n",
       "min        1.000000    0.000000    1.000000                      NaN   NaN   \n",
       "25%      223.500000    0.000000    2.000000                      NaN   NaN   \n",
       "50%      446.000000    0.000000    3.000000                      NaN   NaN   \n",
       "75%      668.500000    1.000000    3.000000                      NaN   NaN   \n",
       "max      891.000000    1.000000    3.000000                      NaN   NaN   \n",
       "\n",
       "               Age       SibSp       Parch  Ticket        Fare    Cabin  \\\n",
       "count   714.000000  891.000000  891.000000     891  891.000000      204   \n",
       "unique         NaN         NaN         NaN     681         NaN      147   \n",
       "top            NaN         NaN         NaN  347082         NaN  B96 B98   \n",
       "freq           NaN         NaN         NaN       7         NaN        4   \n",
       "mean     29.699118    0.523008    0.381594     NaN   32.204208      NaN   \n",
       "std      14.526497    1.102743    0.806057     NaN   49.693429      NaN   \n",
       "min       0.420000    0.000000    0.000000     NaN    0.000000      NaN   \n",
       "25%      20.125000    0.000000    0.000000     NaN    7.910400      NaN   \n",
       "50%      28.000000    0.000000    0.000000     NaN   14.454200      NaN   \n",
       "75%      38.000000    1.000000    0.000000     NaN   31.000000      NaN   \n",
       "max      80.000000    8.000000    6.000000     NaN  512.329200      NaN   \n",
       "\n",
       "       Embarked  \n",
       "count       889  \n",
       "unique        3  \n",
       "top           S  \n",
       "freq        644  \n",
       "mean        NaN  \n",
       "std         NaN  \n",
       "min         NaN  \n",
       "25%         NaN  \n",
       "50%         NaN  \n",
       "75%         NaN  \n",
       "max         NaN  "
      ]
     },
     "execution_count": 7,
     "metadata": {},
     "output_type": "execute_result"
    }
   ],
   "source": [
    "titanic_train.describe(include='all')"
   ]
  },
  {
   "cell_type": "code",
   "execution_count": 8,
   "id": "b19b7ebb",
   "metadata": {
    "execution": {
     "iopub.execute_input": "2023-03-24T16:49:45.986448Z",
     "iopub.status.busy": "2023-03-24T16:49:45.986059Z",
     "iopub.status.idle": "2023-03-24T16:49:46.003630Z",
     "shell.execute_reply": "2023-03-24T16:49:46.002323Z"
    },
    "papermill": {
     "duration": 0.039169,
     "end_time": "2023-03-24T16:49:46.006340",
     "exception": false,
     "start_time": "2023-03-24T16:49:45.967171",
     "status": "completed"
    },
    "tags": []
   },
   "outputs": [
    {
     "name": "stdout",
     "output_type": "stream",
     "text": [
      "<class 'pandas.core.frame.DataFrame'>\n",
      "RangeIndex: 891 entries, 0 to 890\n",
      "Data columns (total 12 columns):\n",
      " #   Column       Non-Null Count  Dtype  \n",
      "---  ------       --------------  -----  \n",
      " 0   PassengerId  891 non-null    int64  \n",
      " 1   Survived     891 non-null    int64  \n",
      " 2   Pclass       891 non-null    int64  \n",
      " 3   Name         891 non-null    object \n",
      " 4   Sex          891 non-null    object \n",
      " 5   Age          714 non-null    float64\n",
      " 6   SibSp        891 non-null    int64  \n",
      " 7   Parch        891 non-null    int64  \n",
      " 8   Ticket       891 non-null    object \n",
      " 9   Fare         891 non-null    float64\n",
      " 10  Cabin        204 non-null    object \n",
      " 11  Embarked     889 non-null    object \n",
      "dtypes: float64(2), int64(5), object(5)\n",
      "memory usage: 83.7+ KB\n"
     ]
    }
   ],
   "source": [
    "titanic_train.info()"
   ]
  },
  {
   "cell_type": "markdown",
   "id": "021149c5",
   "metadata": {
    "papermill": {
     "duration": 0.02158,
     "end_time": "2023-03-24T16:49:46.049976",
     "exception": false,
     "start_time": "2023-03-24T16:49:46.028396",
     "status": "completed"
    },
    "tags": []
   },
   "source": [
    "We have null values in Age, Cabin, and Embarked that we will need to deal with. "
   ]
  },
  {
   "cell_type": "code",
   "execution_count": 9,
   "id": "9d898d55",
   "metadata": {
    "execution": {
     "iopub.execute_input": "2023-03-24T16:49:46.088630Z",
     "iopub.status.busy": "2023-03-24T16:49:46.088238Z",
     "iopub.status.idle": "2023-03-24T16:49:46.094072Z",
     "shell.execute_reply": "2023-03-24T16:49:46.092783Z"
    },
    "papermill": {
     "duration": 0.02725,
     "end_time": "2023-03-24T16:49:46.096403",
     "exception": false,
     "start_time": "2023-03-24T16:49:46.069153",
     "status": "completed"
    },
    "tags": []
   },
   "outputs": [],
   "source": [
    "outcome = ['Survived']\n",
    "features = ['Pclass','Name','Sex','Age','SibSp','Parch','Ticket','Fare','Cabin','Embarked']"
   ]
  },
  {
   "cell_type": "code",
   "execution_count": 10,
   "id": "a549ccf8",
   "metadata": {
    "execution": {
     "iopub.execute_input": "2023-03-24T16:49:46.137889Z",
     "iopub.status.busy": "2023-03-24T16:49:46.137017Z",
     "iopub.status.idle": "2023-03-24T16:49:46.144652Z",
     "shell.execute_reply": "2023-03-24T16:49:46.143740Z"
    },
    "papermill": {
     "duration": 0.03324,
     "end_time": "2023-03-24T16:49:46.147310",
     "exception": false,
     "start_time": "2023-03-24T16:49:46.114070",
     "status": "completed"
    },
    "tags": []
   },
   "outputs": [],
   "source": [
    "df_num = titanic_train[['Age','SibSp','Parch','Fare']]\n",
    "df_cat = titanic_train[['Pclass','Name','Sex','Ticket','Cabin','Embarked']]"
   ]
  },
  {
   "cell_type": "markdown",
   "id": "7efd4be6",
   "metadata": {
    "papermill": {
     "duration": 0.017292,
     "end_time": "2023-03-24T16:49:46.183004",
     "exception": false,
     "start_time": "2023-03-24T16:49:46.165712",
     "status": "completed"
    },
    "tags": []
   },
   "source": [
    "#### First we will check the distributions of our numerical variables"
   ]
  },
  {
   "cell_type": "code",
   "execution_count": 11,
   "id": "889567da",
   "metadata": {
    "execution": {
     "iopub.execute_input": "2023-03-24T16:49:46.224230Z",
     "iopub.status.busy": "2023-03-24T16:49:46.219981Z",
     "iopub.status.idle": "2023-03-24T16:49:47.370941Z",
     "shell.execute_reply": "2023-03-24T16:49:47.369530Z"
    },
    "papermill": {
     "duration": 1.173083,
     "end_time": "2023-03-24T16:49:47.373893",
     "exception": false,
     "start_time": "2023-03-24T16:49:46.200810",
     "status": "completed"
    },
    "tags": []
   },
   "outputs": [],
   "source": [
    "import matplotlib.pyplot as plt\n",
    "import seaborn as sns"
   ]
  },
  {
   "cell_type": "code",
   "execution_count": 12,
   "id": "ebe39a49",
   "metadata": {
    "execution": {
     "iopub.execute_input": "2023-03-24T16:49:47.411205Z",
     "iopub.status.busy": "2023-03-24T16:49:47.410799Z",
     "iopub.status.idle": "2023-03-24T16:49:48.527527Z",
     "shell.execute_reply": "2023-03-24T16:49:48.526683Z"
    },
    "papermill": {
     "duration": 1.138494,
     "end_time": "2023-03-24T16:49:48.530099",
     "exception": false,
     "start_time": "2023-03-24T16:49:47.391605",
     "status": "completed"
    },
    "tags": []
   },
   "outputs": [
    {
     "data": {
      "image/png": "[encoded data removed]",
      "text/plain": [
       "<Figure size 432x288 with 1 Axes>"
      ]
     },
     "metadata": {
      "needs_background": "light"
     },
     "output_type": "display_data"
    },
    {
     "data": {
      "image/png": "[encoded data removed]",
      "text/plain": [
       "<Figure size 432x288 with 1 Axes>"
      ]
     },
     "metadata": {
      "needs_background": "light"
     },
     "output_type": "display_data"
    },
    {
     "data": {
      "image/png": "[encoded data removed]",
      "text/plain": [
       "<Figure size 432x288 with 1 Axes>"
      ]
     },
     "metadata": {
      "needs_background": "light"
     },
     "output_type": "display_data"
    },
    {
     "data": {
      "image/png": "[encoded data removed]",
      "text/plain": [
       "<Figure size 432x288 with 1 Axes>"
      ]
     },
     "metadata": {
      "needs_background": "light"
     },
     "output_type": "display_data"
    }
   ],
   "source": [
    "for i in df_num.columns:\n",
    "    plot = sns.histplot(df_num[i])\n",
    "    plt.title(i)\n",
    "    plt.show()"
   ]
  },
  {
   "cell_type": "markdown",
   "id": "6d409260",
   "metadata": {
    "papermill": {
     "duration": 0.017829,
     "end_time": "2023-03-24T16:49:48.566270",
     "exception": false,
     "start_time": "2023-03-24T16:49:48.548441",
     "status": "completed"
    },
    "tags": []
   },
   "source": [
    "Note: Age has a fairly normal distribution while the others skew towards the min. Also looks like we might have some outliers in our fare. "
   ]
  },
  {
   "cell_type": "markdown",
   "id": "6a6328e6",
   "metadata": {
    "papermill": {
     "duration": 0.017834,
     "end_time": "2023-03-24T16:49:48.602118",
     "exception": false,
     "start_time": "2023-03-24T16:49:48.584284",
     "status": "completed"
    },
    "tags": []
   },
   "source": [
    "#### Closer look at high fare passengers"
   ]
  },
  {
   "cell_type": "code",
   "execution_count": 13,
   "id": "a60af8f1",
   "metadata": {
    "execution": {
     "iopub.execute_input": "2023-03-24T16:49:48.640101Z",
     "iopub.status.busy": "2023-03-24T16:49:48.639668Z",
     "iopub.status.idle": "2023-03-24T16:49:48.664188Z",
     "shell.execute_reply": "2023-03-24T16:49:48.662941Z"
    },
    "papermill": {
     "duration": 0.046247,
     "end_time": "2023-03-24T16:49:48.666451",
     "exception": false,
     "start_time": "2023-03-24T16:49:48.620204",
     "status": "completed"
    },
    "tags": []
   },
   "outputs": [
    {
     "data": {
      "text/html": [
       "<div>\n",
       "<style scoped>\n",
       "    .dataframe tbody tr th:only-of-type {\n",
       "        vertical-align: middle;\n",
       "    }\n",
       "\n",
       "    .dataframe tbody tr th {\n",
       "        vertical-align: top;\n",
       "    }\n",
       "\n",
       "    .dataframe thead th {\n",
       "        text-align: right;\n",
       "    }\n",
       "</style>\n",
       "<table border=\"1\" class=\"dataframe\">\n",
       "  <thead>\n",
       "    <tr style=\"text-align: right;\">\n",
       "      <th></th>\n",
       "      <th>PassengerId</th>\n",
       "      <th>Survived</th>\n",
       "      <th>Pclass</th>\n",
       "      <th>Name</th>\n",
       "      <th>Sex</th>\n",
       "      <th>Age</th>\n",
       "      <th>SibSp</th>\n",
       "      <th>Parch</th>\n",
       "      <th>Ticket</th>\n",
       "      <th>Fare</th>\n",
       "      <th>Cabin</th>\n",
       "      <th>Embarked</th>\n",
       "    </tr>\n",
       "  </thead>\n",
       "  <tbody>\n",
       "    <tr>\n",
       "      <th>27</th>\n",
       "      <td>28</td>\n",
       "      <td>0</td>\n",
       "      <td>1</td>\n",
       "      <td>Fortune, Mr. Charles Alexander</td>\n",
       "      <td>male</td>\n",
       "      <td>19.0</td>\n",
       "      <td>3</td>\n",
       "      <td>2</td>\n",
       "      <td>19950</td>\n",
       "      <td>263.0000</td>\n",
       "      <td>C23 C25 C27</td>\n",
       "      <td>S</td>\n",
       "    </tr>\n",
       "    <tr>\n",
       "      <th>88</th>\n",
       "      <td>89</td>\n",
       "      <td>1</td>\n",
       "      <td>1</td>\n",
       "      <td>Fortune, Miss. Mabel Helen</td>\n",
       "      <td>female</td>\n",
       "      <td>23.0</td>\n",
       "      <td>3</td>\n",
       "      <td>2</td>\n",
       "      <td>19950</td>\n",
       "      <td>263.0000</td>\n",
       "      <td>C23 C25 C27</td>\n",
       "      <td>S</td>\n",
       "    </tr>\n",
       "    <tr>\n",
       "      <th>118</th>\n",
       "      <td>119</td>\n",
       "      <td>0</td>\n",
       "      <td>1</td>\n",
       "      <td>Baxter, Mr. Quigg Edmond</td>\n",
       "      <td>male</td>\n",
       "      <td>24.0</td>\n",
       "      <td>0</td>\n",
       "      <td>1</td>\n",
       "      <td>PC 17558</td>\n",
       "      <td>247.5208</td>\n",
       "      <td>B58 B60</td>\n",
       "      <td>C</td>\n",
       "    </tr>\n",
       "    <tr>\n",
       "      <th>258</th>\n",
       "      <td>259</td>\n",
       "      <td>1</td>\n",
       "      <td>1</td>\n",
       "      <td>Ward, Miss. Anna</td>\n",
       "      <td>female</td>\n",
       "      <td>35.0</td>\n",
       "      <td>0</td>\n",
       "      <td>0</td>\n",
       "      <td>PC 17755</td>\n",
       "      <td>512.3292</td>\n",
       "      <td>NaN</td>\n",
       "      <td>C</td>\n",
       "    </tr>\n",
       "    <tr>\n",
       "      <th>299</th>\n",
       "      <td>300</td>\n",
       "      <td>1</td>\n",
       "      <td>1</td>\n",
       "      <td>Baxter, Mrs. James (Helene DeLaudeniere Chaput)</td>\n",
       "      <td>female</td>\n",
       "      <td>50.0</td>\n",
       "      <td>0</td>\n",
       "      <td>1</td>\n",
       "      <td>PC 17558</td>\n",
       "      <td>247.5208</td>\n",
       "      <td>B58 B60</td>\n",
       "      <td>C</td>\n",
       "    </tr>\n",
       "    <tr>\n",
       "      <th>311</th>\n",
       "      <td>312</td>\n",
       "      <td>1</td>\n",
       "      <td>1</td>\n",
       "      <td>Ryerson, Miss. Emily Borie</td>\n",
       "      <td>female</td>\n",
       "      <td>18.0</td>\n",
       "      <td>2</td>\n",
       "      <td>2</td>\n",
       "      <td>PC 17608</td>\n",
       "      <td>262.3750</td>\n",
       "      <td>B57 B59 B63 B66</td>\n",
       "      <td>C</td>\n",
       "    </tr>\n",
       "    <tr>\n",
       "      <th>341</th>\n",
       "      <td>342</td>\n",
       "      <td>1</td>\n",
       "      <td>1</td>\n",
       "      <td>Fortune, Miss. Alice Elizabeth</td>\n",
       "      <td>female</td>\n",
       "      <td>24.0</td>\n",
       "      <td>3</td>\n",
       "      <td>2</td>\n",
       "      <td>19950</td>\n",
       "      <td>263.0000</td>\n",
       "      <td>C23 C25 C27</td>\n",
       "      <td>S</td>\n",
       "    </tr>\n",
       "    <tr>\n",
       "      <th>377</th>\n",
       "      <td>378</td>\n",
       "      <td>0</td>\n",
       "      <td>1</td>\n",
       "      <td>Widener, Mr. Harry Elkins</td>\n",
       "      <td>male</td>\n",
       "      <td>27.0</td>\n",
       "      <td>0</td>\n",
       "      <td>2</td>\n",
       "      <td>113503</td>\n",
       "      <td>211.5000</td>\n",
       "      <td>C82</td>\n",
       "      <td>C</td>\n",
       "    </tr>\n",
       "    <tr>\n",
       "      <th>380</th>\n",
       "      <td>381</td>\n",
       "      <td>1</td>\n",
       "      <td>1</td>\n",
       "      <td>Bidois, Miss. Rosalie</td>\n",
       "      <td>female</td>\n",
       "      <td>42.0</td>\n",
       "      <td>0</td>\n",
       "      <td>0</td>\n",
       "      <td>PC 17757</td>\n",
       "      <td>227.5250</td>\n",
       "      <td>NaN</td>\n",
       "      <td>C</td>\n",
       "    </tr>\n",
       "    <tr>\n",
       "      <th>438</th>\n",
       "      <td>439</td>\n",
       "      <td>0</td>\n",
       "      <td>1</td>\n",
       "      <td>Fortune, Mr. Mark</td>\n",
       "      <td>male</td>\n",
       "      <td>64.0</td>\n",
       "      <td>1</td>\n",
       "      <td>4</td>\n",
       "      <td>19950</td>\n",
       "      <td>263.0000</td>\n",
       "      <td>C23 C25 C27</td>\n",
       "      <td>S</td>\n",
       "    </tr>\n",
       "    <tr>\n",
       "      <th>527</th>\n",
       "      <td>528</td>\n",
       "      <td>0</td>\n",
       "      <td>1</td>\n",
       "      <td>Farthing, Mr. John</td>\n",
       "      <td>male</td>\n",
       "      <td>NaN</td>\n",
       "      <td>0</td>\n",
       "      <td>0</td>\n",
       "      <td>PC 17483</td>\n",
       "      <td>221.7792</td>\n",
       "      <td>C95</td>\n",
       "      <td>S</td>\n",
       "    </tr>\n",
       "    <tr>\n",
       "      <th>557</th>\n",
       "      <td>558</td>\n",
       "      <td>0</td>\n",
       "      <td>1</td>\n",
       "      <td>Robbins, Mr. Victor</td>\n",
       "      <td>male</td>\n",
       "      <td>NaN</td>\n",
       "      <td>0</td>\n",
       "      <td>0</td>\n",
       "      <td>PC 17757</td>\n",
       "      <td>227.5250</td>\n",
       "      <td>NaN</td>\n",
       "      <td>C</td>\n",
       "    </tr>\n",
       "    <tr>\n",
       "      <th>679</th>\n",
       "      <td>680</td>\n",
       "      <td>1</td>\n",
       "      <td>1</td>\n",
       "      <td>Cardeza, Mr. Thomas Drake Martinez</td>\n",
       "      <td>male</td>\n",
       "      <td>36.0</td>\n",
       "      <td>0</td>\n",
       "      <td>1</td>\n",
       "      <td>PC 17755</td>\n",
       "      <td>512.3292</td>\n",
       "      <td>B51 B53 B55</td>\n",
       "      <td>C</td>\n",
       "    </tr>\n",
       "    <tr>\n",
       "      <th>689</th>\n",
       "      <td>690</td>\n",
       "      <td>1</td>\n",
       "      <td>1</td>\n",
       "      <td>Madill, Miss. Georgette Alexandra</td>\n",
       "      <td>female</td>\n",
       "      <td>15.0</td>\n",
       "      <td>0</td>\n",
       "      <td>1</td>\n",
       "      <td>24160</td>\n",
       "      <td>211.3375</td>\n",
       "      <td>B5</td>\n",
       "      <td>S</td>\n",
       "    </tr>\n",
       "    <tr>\n",
       "      <th>700</th>\n",
       "      <td>701</td>\n",
       "      <td>1</td>\n",
       "      <td>1</td>\n",
       "      <td>Astor, Mrs. John Jacob (Madeleine Talmadge Force)</td>\n",
       "      <td>female</td>\n",
       "      <td>18.0</td>\n",
       "      <td>1</td>\n",
       "      <td>0</td>\n",
       "      <td>PC 17757</td>\n",
       "      <td>227.5250</td>\n",
       "      <td>C62 C64</td>\n",
       "      <td>C</td>\n",
       "    </tr>\n",
       "    <tr>\n",
       "      <th>716</th>\n",
       "      <td>717</td>\n",
       "      <td>1</td>\n",
       "      <td>1</td>\n",
       "      <td>Endres, Miss. Caroline Louise</td>\n",
       "      <td>female</td>\n",
       "      <td>38.0</td>\n",
       "      <td>0</td>\n",
       "      <td>0</td>\n",
       "      <td>PC 17757</td>\n",
       "      <td>227.5250</td>\n",
       "      <td>C45</td>\n",
       "      <td>C</td>\n",
       "    </tr>\n",
       "    <tr>\n",
       "      <th>730</th>\n",
       "      <td>731</td>\n",
       "      <td>1</td>\n",
       "      <td>1</td>\n",
       "      <td>Allen, Miss. Elisabeth Walton</td>\n",
       "      <td>female</td>\n",
       "      <td>29.0</td>\n",
       "      <td>0</td>\n",
       "      <td>0</td>\n",
       "      <td>24160</td>\n",
       "      <td>211.3375</td>\n",
       "      <td>B5</td>\n",
       "      <td>S</td>\n",
       "    </tr>\n",
       "    <tr>\n",
       "      <th>737</th>\n",
       "      <td>738</td>\n",
       "      <td>1</td>\n",
       "      <td>1</td>\n",
       "      <td>Lesurer, Mr. Gustave J</td>\n",
       "      <td>male</td>\n",
       "      <td>35.0</td>\n",
       "      <td>0</td>\n",
       "      <td>0</td>\n",
       "      <td>PC 17755</td>\n",
       "      <td>512.3292</td>\n",
       "      <td>B101</td>\n",
       "      <td>C</td>\n",
       "    </tr>\n",
       "    <tr>\n",
       "      <th>742</th>\n",
       "      <td>743</td>\n",
       "      <td>1</td>\n",
       "      <td>1</td>\n",
       "      <td>Ryerson, Miss. Susan Parker \"Suzette\"</td>\n",
       "      <td>female</td>\n",
       "      <td>21.0</td>\n",
       "      <td>2</td>\n",
       "      <td>2</td>\n",
       "      <td>PC 17608</td>\n",
       "      <td>262.3750</td>\n",
       "      <td>B57 B59 B63 B66</td>\n",
       "      <td>C</td>\n",
       "    </tr>\n",
       "    <tr>\n",
       "      <th>779</th>\n",
       "      <td>780</td>\n",
       "      <td>1</td>\n",
       "      <td>1</td>\n",
       "      <td>Robert, Mrs. Edward Scott (Elisabeth Walton Mc...</td>\n",
       "      <td>female</td>\n",
       "      <td>43.0</td>\n",
       "      <td>0</td>\n",
       "      <td>1</td>\n",
       "      <td>24160</td>\n",
       "      <td>211.3375</td>\n",
       "      <td>B3</td>\n",
       "      <td>S</td>\n",
       "    </tr>\n",
       "  </tbody>\n",
       "</table>\n",
       "</div>"
      ],
      "text/plain": [
       "     PassengerId  Survived  Pclass  \\\n",
       "27            28         0       1   \n",
       "88            89         1       1   \n",
       "118          119         0       1   \n",
       "258          259         1       1   \n",
       "299          300         1       1   \n",
       "311          312         1       1   \n",
       "341          342         1       1   \n",
       "377          378         0       1   \n",
       "380          381         1       1   \n",
       "438          439         0       1   \n",
       "527          528         0       1   \n",
       "557          558         0       1   \n",
       "679          680         1       1   \n",
       "689          690         1       1   \n",
       "700          701         1       1   \n",
       "716          717         1       1   \n",
       "730          731         1       1   \n",
       "737          738         1       1   \n",
       "742          743         1       1   \n",
       "779          780         1       1   \n",
       "\n",
       "                                                  Name     Sex   Age  SibSp  \\\n",
       "27                      Fortune, Mr. Charles Alexander    male  19.0      3   \n",
       "88                          Fortune, Miss. Mabel Helen  female  23.0      3   \n",
       "118                           Baxter, Mr. Quigg Edmond    male  24.0      0   \n",
       "258                                   Ward, Miss. Anna  female  35.0      0   \n",
       "299    Baxter, Mrs. James (Helene DeLaudeniere Chaput)  female  50.0      0   \n",
       "311                         Ryerson, Miss. Emily Borie  female  18.0      2   \n",
       "341                     Fortune, Miss. Alice Elizabeth  female  24.0      3   \n",
       "377                          Widener, Mr. Harry Elkins    male  27.0      0   \n",
       "380                              Bidois, Miss. Rosalie  female  42.0      0   \n",
       "438                                  Fortune, Mr. Mark    male  64.0      1   \n",
       "527                                 Farthing, Mr. John    male   NaN      0   \n",
       "557                                Robbins, Mr. Victor    male   NaN      0   \n",
       "679                 Cardeza, Mr. Thomas Drake Martinez    male  36.0      0   \n",
       "689                  Madill, Miss. Georgette Alexandra  female  15.0      0   \n",
       "700  Astor, Mrs. John Jacob (Madeleine Talmadge Force)  female  18.0      1   \n",
       "716                      Endres, Miss. Caroline Louise  female  38.0      0   \n",
       "730                      Allen, Miss. Elisabeth Walton  female  29.0      0   \n",
       "737                             Lesurer, Mr. Gustave J    male  35.0      0   \n",
       "742              Ryerson, Miss. Susan Parker \"Suzette\"  female  21.0      2   \n",
       "779  Robert, Mrs. Edward Scott (Elisabeth Walton Mc...  female  43.0      0   \n",
       "\n",
       "     Parch    Ticket      Fare            Cabin Embarked  \n",
       "27       2     19950  263.0000      C23 C25 C27        S  \n",
       "88       2     19950  263.0000      C23 C25 C27        S  \n",
       "118      1  PC 17558  247.5208          B58 B60        C  \n",
       "258      0  PC 17755  512.3292              NaN        C  \n",
       "299      1  PC 17558  247.5208          B58 B60        C  \n",
       "311      2  PC 17608  262.3750  B57 B59 B63 B66        C  \n",
       "341      2     19950  263.0000      C23 C25 C27        S  \n",
       "377      2    113503  211.5000              C82        C  \n",
       "380      0  PC 17757  227.5250              NaN        C  \n",
       "438      4     19950  263.0000      C23 C25 C27        S  \n",
       "527      0  PC 17483  221.7792              C95        S  \n",
       "557      0  PC 17757  227.5250              NaN        C  \n",
       "679      1  PC 17755  512.3292      B51 B53 B55        C  \n",
       "689      1     24160  211.3375               B5        S  \n",
       "700      0  PC 17757  227.5250          C62 C64        C  \n",
       "716      0  PC 17757  227.5250              C45        C  \n",
       "730      0     24160  211.3375               B5        S  \n",
       "737      0  PC 17755  512.3292             B101        C  \n",
       "742      2  PC 17608  262.3750  B57 B59 B63 B66        C  \n",
       "779      1     24160  211.3375               B3        S  "
      ]
     },
     "execution_count": 13,
     "metadata": {},
     "output_type": "execute_result"
    }
   ],
   "source": [
    "df_high_fare = titanic_train[df_num['Fare']>200]\n",
    "df_high_fare"
   ]
  },
  {
   "cell_type": "code",
   "execution_count": 14,
   "id": "861059ab",
   "metadata": {
    "execution": {
     "iopub.execute_input": "2023-03-24T16:49:48.706328Z",
     "iopub.status.busy": "2023-03-24T16:49:48.705085Z",
     "iopub.status.idle": "2023-03-24T16:49:48.713244Z",
     "shell.execute_reply": "2023-03-24T16:49:48.712252Z"
    },
    "papermill": {
     "duration": 0.030109,
     "end_time": "2023-03-24T16:49:48.715405",
     "exception": false,
     "start_time": "2023-03-24T16:49:48.685296",
     "status": "completed"
    },
    "tags": []
   },
   "outputs": [
    {
     "data": {
      "text/plain": [
       "0.7"
      ]
     },
     "execution_count": 14,
     "metadata": {},
     "output_type": "execute_result"
    }
   ],
   "source": [
    "df_high_fare['Survived'].mean()"
   ]
  },
  {
   "cell_type": "markdown",
   "id": "06496b13",
   "metadata": {
    "papermill": {
     "duration": 0.018634,
     "end_time": "2023-03-24T16:49:48.753466",
     "exception": false,
     "start_time": "2023-03-24T16:49:48.734832",
     "status": "completed"
    },
    "tags": []
   },
   "source": [
    "We do see that 70% of people that had a relatively high fair survived. "
   ]
  },
  {
   "cell_type": "markdown",
   "id": "89fdf1de",
   "metadata": {
    "papermill": {
     "duration": 0.019026,
     "end_time": "2023-03-24T16:49:48.791481",
     "exception": false,
     "start_time": "2023-03-24T16:49:48.772455",
     "status": "completed"
    },
    "tags": []
   },
   "source": [
    "#### Next we will check correlations between our numeric features"
   ]
  },
  {
   "cell_type": "code",
   "execution_count": 15,
   "id": "841fcfc3",
   "metadata": {
    "execution": {
     "iopub.execute_input": "2023-03-24T16:49:48.832428Z",
     "iopub.status.busy": "2023-03-24T16:49:48.832014Z",
     "iopub.status.idle": "2023-03-24T16:49:49.114813Z",
     "shell.execute_reply": "2023-03-24T16:49:49.113787Z"
    },
    "papermill": {
     "duration": 0.306588,
     "end_time": "2023-03-24T16:49:49.117583",
     "exception": false,
     "start_time": "2023-03-24T16:49:48.810995",
     "status": "completed"
    },
    "tags": []
   },
   "outputs": [
    {
     "name": "stdout",
     "output_type": "stream",
     "text": [
      "            Age     SibSp     Parch      Fare\n",
      "Age    1.000000 -0.308247 -0.189119  0.096067\n",
      "SibSp -0.308247  1.000000  0.414838  0.159651\n",
      "Parch -0.189119  0.414838  1.000000  0.216225\n",
      "Fare   0.096067  0.159651  0.216225  1.000000\n"
     ]
    },
    {
     "data": {
      "text/plain": [
       "Text(0.5, 1.0, 'Numeric Feature Heatmap')"
      ]
     },
     "execution_count": 15,
     "metadata": {},
     "output_type": "execute_result"
    },
    {
     "data": {
      "image/png": "[encoded data removed]",
      "text/plain": [
       "<Figure size 432x288 with 2 Axes>"
      ]
     },
     "metadata": {
      "needs_background": "light"
     },
     "output_type": "display_data"
    }
   ],
   "source": [
    "print(df_num.corr())\n",
    "sns.heatmap(df_num.corr())\n",
    "plt.title('Numeric Feature Heatmap')"
   ]
  },
  {
   "cell_type": "code",
   "execution_count": 16,
   "id": "03e95f50",
   "metadata": {
    "execution": {
     "iopub.execute_input": "2023-03-24T16:49:49.159804Z",
     "iopub.status.busy": "2023-03-24T16:49:49.159334Z",
     "iopub.status.idle": "2023-03-24T16:49:49.185828Z",
     "shell.execute_reply": "2023-03-24T16:49:49.184623Z"
    },
    "papermill": {
     "duration": 0.050196,
     "end_time": "2023-03-24T16:49:49.188427",
     "exception": false,
     "start_time": "2023-03-24T16:49:49.138231",
     "status": "completed"
    },
    "tags": []
   },
   "outputs": [
    {
     "data": {
      "text/html": [
       "<div>\n",
       "<style scoped>\n",
       "    .dataframe tbody tr th:only-of-type {\n",
       "        vertical-align: middle;\n",
       "    }\n",
       "\n",
       "    .dataframe tbody tr th {\n",
       "        vertical-align: top;\n",
       "    }\n",
       "\n",
       "    .dataframe thead th {\n",
       "        text-align: right;\n",
       "    }\n",
       "</style>\n",
       "<table border=\"1\" class=\"dataframe\">\n",
       "  <thead>\n",
       "    <tr style=\"text-align: right;\">\n",
       "      <th></th>\n",
       "      <th>Age</th>\n",
       "      <th>Fare</th>\n",
       "      <th>Parch</th>\n",
       "      <th>SibSp</th>\n",
       "    </tr>\n",
       "    <tr>\n",
       "      <th>Survived</th>\n",
       "      <th></th>\n",
       "      <th></th>\n",
       "      <th></th>\n",
       "      <th></th>\n",
       "    </tr>\n",
       "  </thead>\n",
       "  <tbody>\n",
       "    <tr>\n",
       "      <th>0</th>\n",
       "      <td>30.626179</td>\n",
       "      <td>22.117887</td>\n",
       "      <td>0.329690</td>\n",
       "      <td>0.553734</td>\n",
       "    </tr>\n",
       "    <tr>\n",
       "      <th>1</th>\n",
       "      <td>28.343690</td>\n",
       "      <td>48.395408</td>\n",
       "      <td>0.464912</td>\n",
       "      <td>0.473684</td>\n",
       "    </tr>\n",
       "  </tbody>\n",
       "</table>\n",
       "</div>"
      ],
      "text/plain": [
       "                Age       Fare     Parch     SibSp\n",
       "Survived                                          \n",
       "0         30.626179  22.117887  0.329690  0.553734\n",
       "1         28.343690  48.395408  0.464912  0.473684"
      ]
     },
     "execution_count": 16,
     "metadata": {},
     "output_type": "execute_result"
    }
   ],
   "source": [
    "#Compare survival rate across numeric features\n",
    "pd.pivot_table(titanic_train, index='Survived', values=['Age','SibSp','Parch','Fare'])"
   ]
  },
  {
   "cell_type": "markdown",
   "id": "3921fadd",
   "metadata": {
    "papermill": {
     "duration": 0.019161,
     "end_time": "2023-03-24T16:49:49.227237",
     "exception": false,
     "start_time": "2023-03-24T16:49:49.208076",
     "status": "completed"
    },
    "tags": []
   },
   "source": [
    "We notice a few things:\n",
    "* The average age of survivors is slightly lower. \n",
    "    * What was the survival rate of children 'Age'<18?\n",
    "* The fare cost of survivors skews fairly high. \n",
    "    * Matches with what we saw in the last section.\n",
    "* Survivors tended to have higher parent/child values but lower sibling/spouse values.\n",
    "    * We will check if children tended to survive. If so it might be that their mothers also survived but possibly less impact on adult spouses and siblings. \n"
   ]
  },
  {
   "cell_type": "markdown",
   "id": "7062d49b",
   "metadata": {
    "papermill": {
     "duration": 0.018845,
     "end_time": "2023-03-24T16:49:49.266388",
     "exception": false,
     "start_time": "2023-03-24T16:49:49.247543",
     "status": "completed"
    },
    "tags": []
   },
   "source": [
    "#### Analyzing info about children that survived"
   ]
  },
  {
   "cell_type": "code",
   "execution_count": 17,
   "id": "753c40f8",
   "metadata": {
    "execution": {
     "iopub.execute_input": "2023-03-24T16:49:49.306923Z",
     "iopub.status.busy": "2023-03-24T16:49:49.306479Z",
     "iopub.status.idle": "2023-03-24T16:49:49.318121Z",
     "shell.execute_reply": "2023-03-24T16:49:49.316340Z"
    },
    "papermill": {
     "duration": 0.0354,
     "end_time": "2023-03-24T16:49:49.321041",
     "exception": false,
     "start_time": "2023-03-24T16:49:49.285641",
     "status": "completed"
    },
    "tags": []
   },
   "outputs": [
    {
     "name": "stdout",
     "output_type": "stream",
     "text": [
      "Survival rate Age < 5:  0.675\n",
      "Survival rate Age < 10:  0.6129032258064516\n",
      "Survival rate Age < 15:  0.5769230769230769\n",
      "Survival rate Age < 20:  0.4817073170731707\n"
     ]
    }
   ],
   "source": [
    "for i in [5,10,15,20]:\n",
    "    print('Survival rate Age < ' + str(i) + ': ', titanic_train[titanic_train['Age']<i]['Survived'].mean())"
   ]
  },
  {
   "cell_type": "markdown",
   "id": "d2bff40b",
   "metadata": {
    "papermill": {
     "duration": 0.019063,
     "end_time": "2023-03-24T16:49:49.359852",
     "exception": false,
     "start_time": "2023-03-24T16:49:49.340789",
     "status": "completed"
    },
    "tags": []
   },
   "source": [
    "As expected young children have a higher survival rate. "
   ]
  },
  {
   "cell_type": "markdown",
   "id": "0ffb53c2",
   "metadata": {
    "execution": {
     "iopub.execute_input": "2023-03-24T00:44:30.887247Z",
     "iopub.status.busy": "2023-03-24T00:44:30.886859Z",
     "iopub.status.idle": "2023-03-24T00:44:30.894932Z",
     "shell.execute_reply": "2023-03-24T00:44:30.893752Z",
     "shell.execute_reply.started": "2023-03-24T00:44:30.887215Z"
    },
    "papermill": {
     "duration": 0.019062,
     "end_time": "2023-03-24T16:49:49.398419",
     "exception": false,
     "start_time": "2023-03-24T16:49:49.379357",
     "status": "completed"
    },
    "tags": []
   },
   "source": [
    "#### Now we look at categorical features"
   ]
  },
  {
   "cell_type": "code",
   "execution_count": 18,
   "id": "190d331f",
   "metadata": {
    "execution": {
     "iopub.execute_input": "2023-03-24T16:49:49.439317Z",
     "iopub.status.busy": "2023-03-24T16:49:49.438933Z",
     "iopub.status.idle": "2023-03-24T16:50:16.950557Z",
     "shell.execute_reply": "2023-03-24T16:50:16.949558Z"
    },
    "papermill": {
     "duration": 27.535075,
     "end_time": "2023-03-24T16:50:16.952949",
     "exception": false,
     "start_time": "2023-03-24T16:49:49.417874",
     "status": "completed"
    },
    "tags": []
   },
   "outputs": [
    {
     "data": {
      "image/png": "[encoded data removed]",
      "text/plain": [
       "<Figure size 432x288 with 1 Axes>"
      ]
     },
     "metadata": {
      "needs_background": "light"
     },
     "output_type": "display_data"
    },
    {
     "data": {
      "image/png": "[encoded data removed]",
      "text/plain": [
       "<Figure size 432x288 with 1 Axes>"
      ]
     },
     "metadata": {
      "needs_background": "light"
     },
     "output_type": "display_data"
    },
    {
     "data": {
      "image/png": "[encoded data removed]",
      "text/plain": [
       "<Figure size 432x288 with 1 Axes>"
      ]
     },
     "metadata": {
      "needs_background": "light"
     },
     "output_type": "display_data"
    },
    {
     "data": {
      "image/png": "[encoded data removed]",
      "text/plain": [
       "<Figure size 432x288 with 1 Axes>"
      ]
     },
     "metadata": {
      "needs_background": "light"
     },
     "output_type": "display_data"
    },
    {
     "data": {
      "image/png": "[encoded data removed]",
      "text/plain": [
       "<Figure size 432x288 with 1 Axes>"
      ]
     },
     "metadata": {
      "needs_background": "light"
     },
     "output_type": "display_data"
    },
    {
     "data": {
      "image/png": "[encoded data removed]",
      "text/plain": [
       "<Figure size 432x288 with 1 Axes>"
      ]
     },
     "metadata": {
      "needs_background": "light"
     },
     "output_type": "display_data"
    }
   ],
   "source": [
    "for i in df_cat.columns:\n",
    "    sns.barplot(x=df_cat[i].value_counts().index, y=df_cat[i].value_counts()).set_title(i)\n",
    "    plt.show()"
   ]
  },
  {
   "cell_type": "markdown",
   "id": "620bf88f",
   "metadata": {
    "papermill": {
     "duration": 0.022277,
     "end_time": "2023-03-24T16:50:16.998396",
     "exception": false,
     "start_time": "2023-03-24T16:50:16.976119",
     "status": "completed"
    },
    "tags": []
   },
   "source": [
    "Observations:\n",
    "* Plcass 3 is the largest class\n",
    "* Not particularly useful for Name\n",
    "* There are almost double the number of males\n",
    "* Tickets and Cabins need to be grouped to be more meaningful\n",
    "* Most passengers embarked from S"
   ]
  },
  {
   "cell_type": "code",
   "execution_count": 19,
   "id": "15362c26",
   "metadata": {
    "execution": {
     "iopub.execute_input": "2023-03-24T16:50:17.046358Z",
     "iopub.status.busy": "2023-03-24T16:50:17.045206Z",
     "iopub.status.idle": "2023-03-24T16:50:17.082940Z",
     "shell.execute_reply": "2023-03-24T16:50:17.081989Z"
    },
    "papermill": {
     "duration": 0.066172,
     "end_time": "2023-03-24T16:50:17.087464",
     "exception": false,
     "start_time": "2023-03-24T16:50:17.021292",
     "status": "completed"
    },
    "tags": []
   },
   "outputs": [
    {
     "name": "stdout",
     "output_type": "stream",
     "text": [
      "Pclass      1   2    3\n",
      "Survived              \n",
      "0          80  97  372\n",
      "1         136  87  119\n",
      "Sex       female  male\n",
      "Survived              \n",
      "0             81   468\n",
      "1            233   109\n",
      "Embarked   C   Q    S\n",
      "Survived             \n",
      "0         75  47  427\n",
      "1         93  30  217\n"
     ]
    }
   ],
   "source": [
    "#We look at pivot tables for the three categorical features that have a small number of groups.\n",
    "small_cat = ['Pclass','Sex','Embarked']\n",
    "for i in small_cat:\n",
    "    print(pd.pivot_table(titanic_train, index='Survived', columns=i, values='Ticket', aggfunc='count' ))"
   ]
  },
  {
   "cell_type": "markdown",
   "id": "d0b01a96",
   "metadata": {
    "papermill": {
     "duration": 0.020831,
     "end_time": "2023-03-24T16:50:17.130076",
     "exception": false,
     "start_time": "2023-03-24T16:50:17.109245",
     "status": "completed"
    },
    "tags": []
   },
   "source": [
    "Observations:\n",
    "* Class 3 had a lower survival rate and class 1 had a slightly higher survival rate\n",
    "* Females had a higher survival rate than males\n",
    "* It seems people that embarked from C had a higher survival rate although I currently don't have an explanation for this. "
   ]
  },
  {
   "cell_type": "markdown",
   "id": "bb9c952e",
   "metadata": {
    "execution": {
     "iopub.execute_input": "2023-03-24T01:13:07.222738Z",
     "iopub.status.busy": "2023-03-24T01:13:07.222383Z",
     "iopub.status.idle": "2023-03-24T01:13:07.230973Z",
     "shell.execute_reply": "2023-03-24T01:13:07.229864Z",
     "shell.execute_reply.started": "2023-03-24T01:13:07.222707Z"
    },
    "papermill": {
     "duration": 0.021249,
     "end_time": "2023-03-24T16:50:17.174077",
     "exception": false,
     "start_time": "2023-03-24T16:50:17.152828",
     "status": "completed"
    },
    "tags": []
   },
   "source": [
    "#### Feature Engineering"
   ]
  },
  {
   "cell_type": "markdown",
   "id": "d04795f9",
   "metadata": {
    "papermill": {
     "duration": 0.020689,
     "end_time": "2023-03-24T16:50:17.216113",
     "exception": false,
     "start_time": "2023-03-24T16:50:17.195424",
     "status": "completed"
    },
    "tags": []
   },
   "source": [
    "Things we can do:\n",
    "* Group similar cabins\n",
    "* Group similar tickets\n",
    "* Check names for important titles"
   ]
  },
  {
   "cell_type": "code",
   "execution_count": 20,
   "id": "00178e7a",
   "metadata": {
    "execution": {
     "iopub.execute_input": "2023-03-24T16:50:17.264253Z",
     "iopub.status.busy": "2023-03-24T16:50:17.263243Z",
     "iopub.status.idle": "2023-03-24T16:50:17.274331Z",
     "shell.execute_reply": "2023-03-24T16:50:17.272483Z"
    },
    "papermill": {
     "duration": 0.04088,
     "end_time": "2023-03-24T16:50:17.277965",
     "exception": false,
     "start_time": "2023-03-24T16:50:17.237085",
     "status": "completed"
    },
    "tags": []
   },
   "outputs": [
    {
     "data": {
      "text/plain": [
       "array([nan, 'C85', 'C123', 'E46', 'G6', 'C103', 'D56', 'A6',\n",
       "       'C23 C25 C27', 'B78', 'D33', 'B30', 'C52', 'B28', 'C83', 'F33',\n",
       "       'F G73', 'E31', 'A5', 'D10 D12', 'D26', 'C110', 'B58 B60', 'E101',\n",
       "       'F E69', 'D47', 'B86', 'F2', 'C2', 'E33', 'B19', 'A7', 'C49', 'F4',\n",
       "       'A32', 'B4', 'B80', 'A31', 'D36', 'D15', 'C93', 'C78', 'D35',\n",
       "       'C87', 'B77', 'E67', 'B94', 'C125', 'C99', 'C118', 'D7', 'A19',\n",
       "       'B49', 'D', 'C22 C26', 'C106', 'C65', 'E36', 'C54',\n",
       "       'B57 B59 B63 B66', 'C7', 'E34', 'C32', 'B18', 'C124', 'C91', 'E40',\n",
       "       'T', 'C128', 'D37', 'B35', 'E50', 'C82', 'B96 B98', 'E10', 'E44',\n",
       "       'A34', 'C104', 'C111', 'C92', 'E38', 'D21', 'E12', 'E63', 'A14',\n",
       "       'B37', 'C30', 'D20', 'B79', 'E25', 'D46', 'B73', 'C95', 'B38',\n",
       "       'B39', 'B22', 'C86', 'C70', 'A16', 'C101', 'C68', 'A10', 'E68',\n",
       "       'B41', 'A20', 'D19', 'D50', 'D9', 'A23', 'B50', 'A26', 'D48',\n",
       "       'E58', 'C126', 'B71', 'B51 B53 B55', 'D49', 'B5', 'B20', 'F G63',\n",
       "       'C62 C64', 'E24', 'C90', 'C45', 'E8', 'B101', 'D45', 'C46', 'D30',\n",
       "       'E121', 'D11', 'E77', 'F38', 'B3', 'D6', 'B82 B84', 'D17', 'A36',\n",
       "       'B102', 'B69', 'E49', 'C47', 'D28', 'E17', 'A24', 'C50', 'B42',\n",
       "       'C148'], dtype=object)"
      ]
     },
     "execution_count": 20,
     "metadata": {},
     "output_type": "execute_result"
    }
   ],
   "source": [
    "titanic_train['Cabin'].unique()"
   ]
  },
  {
   "cell_type": "markdown",
   "id": "67ccac60",
   "metadata": {
    "papermill": {
     "duration": 0.027966,
     "end_time": "2023-03-24T16:50:17.337655",
     "exception": false,
     "start_time": "2023-03-24T16:50:17.309689",
     "status": "completed"
    },
    "tags": []
   },
   "source": [
    "Cabins have letters corresponding to the floor of the ship"
   ]
  },
  {
   "cell_type": "code",
   "execution_count": 21,
   "id": "6228e59d",
   "metadata": {
    "execution": {
     "iopub.execute_input": "2023-03-24T16:50:17.387050Z",
     "iopub.status.busy": "2023-03-24T16:50:17.386479Z",
     "iopub.status.idle": "2023-03-24T16:50:17.401670Z",
     "shell.execute_reply": "2023-03-24T16:50:17.400513Z"
    },
    "papermill": {
     "duration": 0.04461,
     "end_time": "2023-03-24T16:50:17.404273",
     "exception": false,
     "start_time": "2023-03-24T16:50:17.359663",
     "status": "completed"
    },
    "tags": []
   },
   "outputs": [
    {
     "data": {
      "text/plain": [
       "n    687\n",
       "C     59\n",
       "B     47\n",
       "D     33\n",
       "E     32\n",
       "A     15\n",
       "F     13\n",
       "G      4\n",
       "T      1\n",
       "Name: CabinFloor, dtype: int64"
      ]
     },
     "execution_count": 21,
     "metadata": {},
     "output_type": "execute_result"
    }
   ],
   "source": [
    "#Group Cabins based on their first term.  n will map to from nAn\n",
    "titanic_train['CabinFloor'] =  titanic_train.Cabin.apply(lambda x: str(x)[0])\n",
    "titanic_train['CabinFloor'].value_counts()"
   ]
  },
  {
   "cell_type": "code",
   "execution_count": 22,
   "id": "28fdefeb",
   "metadata": {
    "execution": {
     "iopub.execute_input": "2023-03-24T16:50:17.450446Z",
     "iopub.status.busy": "2023-03-24T16:50:17.449440Z",
     "iopub.status.idle": "2023-03-24T16:50:17.483084Z",
     "shell.execute_reply": "2023-03-24T16:50:17.481917Z"
    },
    "papermill": {
     "duration": 0.05997,
     "end_time": "2023-03-24T16:50:17.485983",
     "exception": false,
     "start_time": "2023-03-24T16:50:17.426013",
     "status": "completed"
    },
    "tags": []
   },
   "outputs": [
    {
     "data": {
      "text/html": [
       "<div>\n",
       "<style scoped>\n",
       "    .dataframe tbody tr th:only-of-type {\n",
       "        vertical-align: middle;\n",
       "    }\n",
       "\n",
       "    .dataframe tbody tr th {\n",
       "        vertical-align: top;\n",
       "    }\n",
       "\n",
       "    .dataframe thead th {\n",
       "        text-align: right;\n",
       "    }\n",
       "</style>\n",
       "<table border=\"1\" class=\"dataframe\">\n",
       "  <thead>\n",
       "    <tr style=\"text-align: right;\">\n",
       "      <th>CabinFloor</th>\n",
       "      <th>A</th>\n",
       "      <th>B</th>\n",
       "      <th>C</th>\n",
       "      <th>D</th>\n",
       "      <th>E</th>\n",
       "      <th>F</th>\n",
       "      <th>G</th>\n",
       "      <th>T</th>\n",
       "      <th>n</th>\n",
       "    </tr>\n",
       "    <tr>\n",
       "      <th>Survived</th>\n",
       "      <th></th>\n",
       "      <th></th>\n",
       "      <th></th>\n",
       "      <th></th>\n",
       "      <th></th>\n",
       "      <th></th>\n",
       "      <th></th>\n",
       "      <th></th>\n",
       "      <th></th>\n",
       "    </tr>\n",
       "  </thead>\n",
       "  <tbody>\n",
       "    <tr>\n",
       "      <th>0</th>\n",
       "      <td>8.0</td>\n",
       "      <td>12.0</td>\n",
       "      <td>24.0</td>\n",
       "      <td>8.0</td>\n",
       "      <td>8.0</td>\n",
       "      <td>5.0</td>\n",
       "      <td>2.0</td>\n",
       "      <td>1.0</td>\n",
       "      <td>481.0</td>\n",
       "    </tr>\n",
       "    <tr>\n",
       "      <th>1</th>\n",
       "      <td>7.0</td>\n",
       "      <td>35.0</td>\n",
       "      <td>35.0</td>\n",
       "      <td>25.0</td>\n",
       "      <td>24.0</td>\n",
       "      <td>8.0</td>\n",
       "      <td>2.0</td>\n",
       "      <td>NaN</td>\n",
       "      <td>206.0</td>\n",
       "    </tr>\n",
       "  </tbody>\n",
       "</table>\n",
       "</div>"
      ],
      "text/plain": [
       "CabinFloor    A     B     C     D     E    F    G    T      n\n",
       "Survived                                                     \n",
       "0           8.0  12.0  24.0   8.0   8.0  5.0  2.0  1.0  481.0\n",
       "1           7.0  35.0  35.0  25.0  24.0  8.0  2.0  NaN  206.0"
      ]
     },
     "execution_count": 22,
     "metadata": {},
     "output_type": "execute_result"
    }
   ],
   "source": [
    "#Check the relationship with survival\n",
    "pd.pivot_table(titanic_train, index='Survived', columns='CabinFloor', values='Name', aggfunc='count')"
   ]
  },
  {
   "cell_type": "markdown",
   "id": "15d828b9",
   "metadata": {
    "papermill": {
     "duration": 0.021603,
     "end_time": "2023-03-24T16:50:17.533399",
     "exception": false,
     "start_time": "2023-03-24T16:50:17.511796",
     "status": "completed"
    },
    "tags": []
   },
   "source": [
    "It seem like this does give us some information about the survival rate. "
   ]
  },
  {
   "cell_type": "code",
   "execution_count": 23,
   "id": "ccdf9d6e",
   "metadata": {
    "execution": {
     "iopub.execute_input": "2023-03-24T16:50:17.581929Z",
     "iopub.status.busy": "2023-03-24T16:50:17.580769Z",
     "iopub.status.idle": "2023-03-24T16:50:17.594116Z",
     "shell.execute_reply": "2023-03-24T16:50:17.592717Z"
    },
    "papermill": {
     "duration": 0.039924,
     "end_time": "2023-03-24T16:50:17.596768",
     "exception": false,
     "start_time": "2023-03-24T16:50:17.556844",
     "status": "completed"
    },
    "tags": []
   },
   "outputs": [
    {
     "data": {
      "text/plain": [
       "array(['A/5 21171', 'PC 17599', 'STON/O2. 3101282', '113803', '373450',\n",
       "       '330877', '17463', '349909', '347742', '237736', 'PP 9549',\n",
       "       '113783', 'A/5. 2151', '347082', '350406', '248706', '382652',\n",
       "       '244373', '345763', '2649', '239865', '248698', '330923', '113788',\n",
       "       '347077', '2631', '19950', '330959', '349216', 'PC 17601',\n",
       "       'PC 17569', '335677', 'C.A. 24579', 'PC 17604', '113789', '2677',\n",
       "       'A./5. 2152', '345764', '2651', '7546', '11668', '349253',\n",
       "       'SC/Paris 2123', '330958', 'S.C./A.4. 23567', '370371', '14311',\n",
       "       '2662', '349237', '3101295', 'A/4. 39886', 'PC 17572', '2926',\n",
       "       '113509', '19947', 'C.A. 31026', '2697', 'C.A. 34651', 'CA 2144',\n",
       "       '2669', '113572', '36973', '347088', 'PC 17605', '2661',\n",
       "       'C.A. 29395', 'S.P. 3464', '3101281', '315151', 'C.A. 33111',\n",
       "       'S.O.C. 14879', '2680', '1601', '348123', '349208', '374746',\n",
       "       '248738', '364516', '345767', '345779', '330932', '113059',\n",
       "       'SO/C 14885', '3101278', 'W./C. 6608', 'SOTON/OQ 392086', '343275',\n",
       "       '343276', '347466', 'W.E.P. 5734', 'C.A. 2315', '364500', '374910',\n",
       "       'PC 17754', 'PC 17759', '231919', '244367', '349245', '349215',\n",
       "       '35281', '7540', '3101276', '349207', '343120', '312991', '349249',\n",
       "       '371110', '110465', '2665', '324669', '4136', '2627',\n",
       "       'STON/O 2. 3101294', '370369', 'PC 17558', 'A4. 54510', '27267',\n",
       "       '370372', 'C 17369', '2668', '347061', '349241',\n",
       "       'SOTON/O.Q. 3101307', 'A/5. 3337', '228414', 'C.A. 29178',\n",
       "       'SC/PARIS 2133', '11752', '7534', 'PC 17593', '2678', '347081',\n",
       "       'STON/O2. 3101279', '365222', '231945', 'C.A. 33112', '350043',\n",
       "       '230080', '244310', 'S.O.P. 1166', '113776', 'A.5. 11206',\n",
       "       'A/5. 851', 'Fa 265302', 'PC 17597', '35851', 'SOTON/OQ 392090',\n",
       "       '315037', 'CA. 2343', '371362', 'C.A. 33595', '347068', '315093',\n",
       "       '363291', '113505', 'PC 17318', '111240', 'STON/O 2. 3101280',\n",
       "       '17764', '350404', '4133', 'PC 17595', '250653', 'LINE',\n",
       "       'SC/PARIS 2131', '230136', '315153', '113767', '370365', '111428',\n",
       "       '364849', '349247', '234604', '28424', '350046', 'PC 17610',\n",
       "       '368703', '4579', '370370', '248747', '345770', '3101264', '2628',\n",
       "       'A/5 3540', '347054', '2699', '367231', '112277',\n",
       "       'SOTON/O.Q. 3101311', 'F.C.C. 13528', 'A/5 21174', '250646',\n",
       "       '367229', '35273', 'STON/O2. 3101283', '243847', '11813',\n",
       "       'W/C 14208', 'SOTON/OQ 392089', '220367', '21440', '349234',\n",
       "       '19943', 'PP 4348', 'SW/PP 751', 'A/5 21173', '236171', '347067',\n",
       "       '237442', 'C.A. 29566', 'W./C. 6609', '26707', 'C.A. 31921',\n",
       "       '28665', 'SCO/W 1585', '367230', 'W./C. 14263',\n",
       "       'STON/O 2. 3101275', '2694', '19928', '347071', '250649', '11751',\n",
       "       '244252', '362316', '113514', 'A/5. 3336', '370129', '2650',\n",
       "       'PC 17585', '110152', 'PC 17755', '230433', '384461', '110413',\n",
       "       '112059', '382649', 'C.A. 17248', '347083', 'PC 17582', 'PC 17760',\n",
       "       '113798', '250644', 'PC 17596', '370375', '13502', '347073',\n",
       "       '239853', 'C.A. 2673', '336439', '347464', '345778', 'A/5. 10482',\n",
       "       '113056', '349239', '345774', '349206', '237798', '370373',\n",
       "       '19877', '11967', 'SC/Paris 2163', '349236', '349233', 'PC 17612',\n",
       "       '2693', '113781', '19988', '9234', '367226', '226593', 'A/5 2466',\n",
       "       '17421', 'PC 17758', 'P/PP 3381', 'PC 17485', '11767', 'PC 17608',\n",
       "       '250651', '349243', 'F.C.C. 13529', '347470', '29011', '36928',\n",
       "       '16966', 'A/5 21172', '349219', '234818', '345364', '28551',\n",
       "       '111361', '113043', 'PC 17611', '349225', '7598', '113784',\n",
       "       '248740', '244361', '229236', '248733', '31418', '386525',\n",
       "       'C.A. 37671', '315088', '7267', '113510', '2695', '2647', '345783',\n",
       "       '237671', '330931', '330980', 'SC/PARIS 2167', '2691',\n",
       "       'SOTON/O.Q. 3101310', 'C 7076', '110813', '2626', '14313',\n",
       "       'PC 17477', '11765', '3101267', '323951', 'C 7077', '113503',\n",
       "       '2648', '347069', 'PC 17757', '2653', 'STON/O 2. 3101293',\n",
       "       '349227', '27849', '367655', 'SC 1748', '113760', '350034',\n",
       "       '3101277', '350052', '350407', '28403', '244278', '240929',\n",
       "       'STON/O 2. 3101289', '341826', '4137', '315096', '28664', '347064',\n",
       "       '29106', '312992', '349222', '394140', 'STON/O 2. 3101269',\n",
       "       '343095', '28220', '250652', '28228', '345773', '349254',\n",
       "       'A/5. 13032', '315082', '347080', 'A/4. 34244', '2003', '250655',\n",
       "       '364851', 'SOTON/O.Q. 392078', '110564', '376564', 'SC/AH 3085',\n",
       "       'STON/O 2. 3101274', '13507', 'C.A. 18723', '345769', '347076',\n",
       "       '230434', '65306', '33638', '113794', '2666', '113786', '65303',\n",
       "       '113051', '17453', 'A/5 2817', '349240', '13509', '17464',\n",
       "       'F.C.C. 13531', '371060', '19952', '364506', '111320', '234360',\n",
       "       'A/S 2816', 'SOTON/O.Q. 3101306', '113792', '36209', '323592',\n",
       "       '315089', 'SC/AH Basle 541', '7553', '31027', '3460', '350060',\n",
       "       '3101298', '239854', 'A/5 3594', '4134', '11771', 'A.5. 18509',\n",
       "       '65304', 'SOTON/OQ 3101317', '113787', 'PC 17609', 'A/4 45380',\n",
       "       '36947', 'C.A. 6212', '350035', '315086', '364846', '330909',\n",
       "       '4135', '26360', '111427', 'C 4001', '382651', 'SOTON/OQ 3101316',\n",
       "       'PC 17473', 'PC 17603', '349209', '36967', 'C.A. 34260', '226875',\n",
       "       '349242', '12749', '349252', '2624', '2700', '367232',\n",
       "       'W./C. 14258', 'PC 17483', '3101296', '29104', '2641', '2690',\n",
       "       '315084', '113050', 'PC 17761', '364498', '13568', 'WE/P 5735',\n",
       "       '2908', '693', 'SC/PARIS 2146', '244358', '330979', '2620',\n",
       "       '347085', '113807', '11755', '345572', '372622', '349251',\n",
       "       '218629', 'SOTON/OQ 392082', 'SOTON/O.Q. 392087', 'A/4 48871',\n",
       "       '349205', '2686', '350417', 'S.W./PP 752', '11769', 'PC 17474',\n",
       "       '14312', 'A/4. 20589', '358585', '243880', '2689',\n",
       "       'STON/O 2. 3101286', '237789', '13049', '3411', '237565', '13567',\n",
       "       '14973', 'A./5. 3235', 'STON/O 2. 3101273', 'A/5 3902', '364848',\n",
       "       'SC/AH 29037', '248727', '2664', '349214', '113796', '364511',\n",
       "       '111426', '349910', '349246', '113804', 'SOTON/O.Q. 3101305',\n",
       "       '370377', '364512', '220845', '31028', '2659', '11753', '350029',\n",
       "       '54636', '36963', '219533', '349224', '334912', '27042', '347743',\n",
       "       '13214', '112052', '237668', 'STON/O 2. 3101292', '350050',\n",
       "       '349231', '13213', 'S.O./P.P. 751', 'CA. 2314', '349221', '8475',\n",
       "       '330919', '365226', '349223', '29751', '2623', '5727', '349210',\n",
       "       'STON/O 2. 3101285', '234686', '312993', 'A/5 3536', '19996',\n",
       "       '29750', 'F.C. 12750', 'C.A. 24580', '244270', '239856', '349912',\n",
       "       '342826', '4138', '330935', '6563', '349228', '350036', '24160',\n",
       "       '17474', '349256', '2672', '113800', '248731', '363592', '35852',\n",
       "       '348121', 'PC 17475', '36864', '350025', '223596', 'PC 17476',\n",
       "       'PC 17482', '113028', '7545', '250647', '348124', '34218', '36568',\n",
       "       '347062', '350048', '12233', '250643', '113806', '315094', '36866',\n",
       "       '236853', 'STON/O2. 3101271', '239855', '28425', '233639',\n",
       "       '349201', '349218', '16988', '376566', 'STON/O 2. 3101288',\n",
       "       '250648', '113773', '335097', '29103', '392096', '345780',\n",
       "       '349204', '350042', '29108', '363294', 'SOTON/O2 3101272', '2663',\n",
       "       '347074', '112379', '364850', '8471', '345781', '350047',\n",
       "       'S.O./P.P. 3', '2674', '29105', '347078', '383121', '36865',\n",
       "       '2687', '113501', 'W./C. 6607', 'SOTON/O.Q. 3101312', '374887',\n",
       "       '3101265', '12460', 'PC 17600', '349203', '28213', '17465',\n",
       "       '349244', '2685', '2625', '347089', '347063', '112050', '347087',\n",
       "       '248723', '3474', '28206', '364499', '112058', 'STON/O2. 3101290',\n",
       "       'S.C./PARIS 2079', 'C 7075', '315098', '19972', '368323', '367228',\n",
       "       '2671', '347468', '2223', 'PC 17756', '315097', '392092', '11774',\n",
       "       'SOTON/O2 3101287', '2683', '315090', 'C.A. 5547', '349213',\n",
       "       '347060', 'PC 17592', '392091', '113055', '2629', '350026',\n",
       "       '28134', '17466', '233866', '236852', 'SC/PARIS 2149', 'PC 17590',\n",
       "       '345777', '349248', '695', '345765', '2667', '349212', '349217',\n",
       "       '349257', '7552', 'C.A./SOTON 34068', 'SOTON/OQ 392076', '211536',\n",
       "       '112053', '111369', '370376'], dtype=object)"
      ]
     },
     "execution_count": 23,
     "metadata": {},
     "output_type": "execute_result"
    }
   ],
   "source": [
    "titanic_train.Ticket.unique()"
   ]
  },
  {
   "cell_type": "markdown",
   "id": "de87415f",
   "metadata": {
    "papermill": {
     "duration": 0.025151,
     "end_time": "2023-03-24T16:50:17.644218",
     "exception": false,
     "start_time": "2023-03-24T16:50:17.619067",
     "status": "completed"
    },
    "tags": []
   },
   "source": [
    "After a bit of research, I believe that ticket numbers are based on where the ticket was purchased and might not provide any useful information.  We may choose to drop this feature. "
   ]
  },
  {
   "cell_type": "code",
   "execution_count": 24,
   "id": "e1d7c280",
   "metadata": {
    "execution": {
     "iopub.execute_input": "2023-03-24T16:50:17.709016Z",
     "iopub.status.busy": "2023-03-24T16:50:17.708264Z",
     "iopub.status.idle": "2023-03-24T16:50:17.718284Z",
     "shell.execute_reply": "2023-03-24T16:50:17.717308Z"
    },
    "papermill": {
     "duration": 0.045249,
     "end_time": "2023-03-24T16:50:17.721149",
     "exception": false,
     "start_time": "2023-03-24T16:50:17.675900",
     "status": "completed"
    },
    "tags": []
   },
   "outputs": [
    {
     "data": {
      "text/plain": [
       "0                              Braund, Mr. Owen Harris\n",
       "1    Cumings, Mrs. John Bradley (Florence Briggs Th...\n",
       "2                               Heikkinen, Miss. Laina\n",
       "3         Futrelle, Mrs. Jacques Heath (Lily May Peel)\n",
       "4                             Allen, Mr. William Henry\n",
       "5                                     Moran, Mr. James\n",
       "6                              McCarthy, Mr. Timothy J\n",
       "7                       Palsson, Master. Gosta Leonard\n",
       "8    Johnson, Mrs. Oscar W (Elisabeth Vilhelmina Berg)\n",
       "9                  Nasser, Mrs. Nicholas (Adele Achem)\n",
       "Name: Name, dtype: object"
      ]
     },
     "execution_count": 24,
     "metadata": {},
     "output_type": "execute_result"
    }
   ],
   "source": [
    "#Quick look again at the names\n",
    "titanic_train['Name'].head(10)"
   ]
  },
  {
   "cell_type": "code",
   "execution_count": 25,
   "id": "8102118f",
   "metadata": {
    "execution": {
     "iopub.execute_input": "2023-03-24T16:50:17.773446Z",
     "iopub.status.busy": "2023-03-24T16:50:17.772474Z",
     "iopub.status.idle": "2023-03-24T16:50:17.787216Z",
     "shell.execute_reply": "2023-03-24T16:50:17.786098Z"
    },
    "papermill": {
     "duration": 0.041357,
     "end_time": "2023-03-24T16:50:17.789789",
     "exception": false,
     "start_time": "2023-03-24T16:50:17.748432",
     "status": "completed"
    },
    "tags": []
   },
   "outputs": [
    {
     "data": {
      "text/plain": [
       "Mr              517\n",
       "Miss            182\n",
       "Mrs             125\n",
       "Master           40\n",
       "Dr                7\n",
       "Rev               6\n",
       "Mlle              2\n",
       "Major             2\n",
       "Col               2\n",
       "the Countess      1\n",
       "Capt              1\n",
       "Ms                1\n",
       "Sir               1\n",
       "Lady              1\n",
       "Mme               1\n",
       "Don               1\n",
       "Jonkheer          1\n",
       "Name: Title, dtype: int64"
      ]
     },
     "execution_count": 25,
     "metadata": {},
     "output_type": "execute_result"
    }
   ],
   "source": [
    "#Lets try to pull the title from the name\n",
    "titanic_train['Title'] = titanic_train.Name.apply(lambda x: x.split(', ')[1].split('.')[0])\n",
    "titanic_train['Title'].value_counts()"
   ]
  },
  {
   "cell_type": "markdown",
   "id": "1187605f",
   "metadata": {
    "papermill": {
     "duration": 0.031267,
     "end_time": "2023-03-24T16:50:17.850502",
     "exception": false,
     "start_time": "2023-03-24T16:50:17.819235",
     "status": "completed"
    },
    "tags": []
   },
   "source": [
    "#### Cleaning up the data\n",
    "* Replace nAn with mean in Age column\n",
    "* Normalize fare (Will be done in pipeline)\n",
    "* Scale features (Will be done in pipeline)\n",
    "* one-hot encode Cabin, Title, Pclass, Sex, Embarked\n",
    "* drop Cabin, Name, Ticket\n",
    "* Do same process based on info from training on the test data. "
   ]
  },
  {
   "cell_type": "code",
   "execution_count": 26,
   "id": "2fd551a8",
   "metadata": {
    "execution": {
     "iopub.execute_input": "2023-03-24T16:50:17.922828Z",
     "iopub.status.busy": "2023-03-24T16:50:17.921881Z",
     "iopub.status.idle": "2023-03-24T16:50:17.930240Z",
     "shell.execute_reply": "2023-03-24T16:50:17.929052Z"
    },
    "papermill": {
     "duration": 0.045135,
     "end_time": "2023-03-24T16:50:17.932896",
     "exception": false,
     "start_time": "2023-03-24T16:50:17.887761",
     "status": "completed"
    },
    "tags": []
   },
   "outputs": [],
   "source": [
    "#Replace nAn with mean in Age column use train mean to replace nAn in test data\n",
    "titanic_train['Age'] = titanic_train.Age.fillna(titanic_train.Age.mean())\n",
    "titanic_test['Age'] = titanic_test.Age.fillna(titanic_train.Age.mean())"
   ]
  },
  {
   "cell_type": "code",
   "execution_count": 27,
   "id": "3c93ca04",
   "metadata": {
    "execution": {
     "iopub.execute_input": "2023-03-24T16:50:17.981514Z",
     "iopub.status.busy": "2023-03-24T16:50:17.980682Z",
     "iopub.status.idle": "2023-03-24T16:50:17.992218Z",
     "shell.execute_reply": "2023-03-24T16:50:17.991198Z"
    },
    "papermill": {
     "duration": 0.038108,
     "end_time": "2023-03-24T16:50:17.994530",
     "exception": false,
     "start_time": "2023-03-24T16:50:17.956422",
     "status": "completed"
    },
    "tags": []
   },
   "outputs": [
    {
     "data": {
      "text/plain": [
       "Mr        240\n",
       "Miss       78\n",
       "Mrs        72\n",
       "Master     21\n",
       "Col         2\n",
       "Rev         2\n",
       "Ms          1\n",
       "Dr          1\n",
       "Dona        1\n",
       "Name: Title, dtype: int64"
      ]
     },
     "execution_count": 27,
     "metadata": {},
     "output_type": "execute_result"
    }
   ],
   "source": [
    "#Add Title Feature to test data\n",
    "titanic_test['Title'] = titanic_test.Name.apply(lambda x: x.split(', ')[1].split('.')[0])\n",
    "titanic_test['Title'].value_counts()"
   ]
  },
  {
   "cell_type": "code",
   "execution_count": 28,
   "id": "b4a44238",
   "metadata": {
    "execution": {
     "iopub.execute_input": "2023-03-24T16:50:18.044279Z",
     "iopub.status.busy": "2023-03-24T16:50:18.042930Z",
     "iopub.status.idle": "2023-03-24T16:50:18.055068Z",
     "shell.execute_reply": "2023-03-24T16:50:18.053961Z"
    },
    "papermill": {
     "duration": 0.040076,
     "end_time": "2023-03-24T16:50:18.057474",
     "exception": false,
     "start_time": "2023-03-24T16:50:18.017398",
     "status": "completed"
    },
    "tags": []
   },
   "outputs": [
    {
     "data": {
      "text/plain": [
       "n    327\n",
       "C     35\n",
       "B     18\n",
       "D     13\n",
       "E      9\n",
       "F      8\n",
       "A      7\n",
       "G      1\n",
       "Name: CabinFloor, dtype: int64"
      ]
     },
     "execution_count": 28,
     "metadata": {},
     "output_type": "execute_result"
    }
   ],
   "source": [
    "#Group Cabins based on their first term.  n will map to from nAn\n",
    "titanic_test['CabinFloor'] =  titanic_test.Cabin.apply(lambda x: str(x)[0])\n",
    "titanic_test['CabinFloor'].value_counts()"
   ]
  },
  {
   "cell_type": "code",
   "execution_count": 29,
   "id": "c7c700c3",
   "metadata": {
    "execution": {
     "iopub.execute_input": "2023-03-24T16:50:18.107282Z",
     "iopub.status.busy": "2023-03-24T16:50:18.106766Z",
     "iopub.status.idle": "2023-03-24T16:50:18.114995Z",
     "shell.execute_reply": "2023-03-24T16:50:18.113890Z"
    },
    "papermill": {
     "duration": 0.037019,
     "end_time": "2023-03-24T16:50:18.117339",
     "exception": false,
     "start_time": "2023-03-24T16:50:18.080320",
     "status": "completed"
    },
    "tags": []
   },
   "outputs": [
    {
     "data": {
      "text/plain": [
       "Index(['PassengerId', 'Pclass', 'Name', 'Sex', 'Age', 'SibSp', 'Parch',\n",
       "       'Ticket', 'Fare', 'Cabin', 'Embarked', 'Title', 'CabinFloor'],\n",
       "      dtype='object')"
      ]
     },
     "execution_count": 29,
     "metadata": {},
     "output_type": "execute_result"
    }
   ],
   "source": [
    "titanic_test.columns"
   ]
  },
  {
   "cell_type": "code",
   "execution_count": 30,
   "id": "d7a36e09",
   "metadata": {
    "execution": {
     "iopub.execute_input": "2023-03-24T16:50:18.166538Z",
     "iopub.status.busy": "2023-03-24T16:50:18.165530Z",
     "iopub.status.idle": "2023-03-24T16:50:18.173921Z",
     "shell.execute_reply": "2023-03-24T16:50:18.172796Z"
    },
    "papermill": {
     "duration": 0.035496,
     "end_time": "2023-03-24T16:50:18.176531",
     "exception": false,
     "start_time": "2023-03-24T16:50:18.141035",
     "status": "completed"
    },
    "tags": []
   },
   "outputs": [
    {
     "data": {
      "text/plain": [
       "Index(['PassengerId', 'Survived', 'Pclass', 'Name', 'Sex', 'Age', 'SibSp',\n",
       "       'Parch', 'Ticket', 'Fare', 'Cabin', 'Embarked', 'CabinFloor', 'Title'],\n",
       "      dtype='object')"
      ]
     },
     "execution_count": 30,
     "metadata": {},
     "output_type": "execute_result"
    }
   ],
   "source": [
    "titanic_train.columns"
   ]
  },
  {
   "cell_type": "code",
   "execution_count": 31,
   "id": "dd0fafb8",
   "metadata": {
    "execution": {
     "iopub.execute_input": "2023-03-24T16:50:18.224120Z",
     "iopub.status.busy": "2023-03-24T16:50:18.223659Z",
     "iopub.status.idle": "2023-03-24T16:50:18.233586Z",
     "shell.execute_reply": "2023-03-24T16:50:18.232412Z"
    },
    "papermill": {
     "duration": 0.039003,
     "end_time": "2023-03-24T16:50:18.238416",
     "exception": false,
     "start_time": "2023-03-24T16:50:18.199413",
     "status": "completed"
    },
    "tags": []
   },
   "outputs": [],
   "source": [
    "X_train = titanic_train[['Pclass','Sex','Age','SibSp','Parch','Fare','Embarked','CabinFloor','Title']]\n",
    "y_train = titanic_train[['Survived']]\n",
    "X_test = titanic_test[['Pclass','Sex','Age','SibSp','Parch','Fare','Embarked','CabinFloor','Title']].copy()"
   ]
  },
  {
   "cell_type": "markdown",
   "id": "f8308047",
   "metadata": {
    "execution": {
     "iopub.execute_input": "2023-03-24T12:50:26.520466Z",
     "iopub.status.busy": "2023-03-24T12:50:26.519964Z",
     "iopub.status.idle": "2023-03-24T12:50:26.526294Z",
     "shell.execute_reply": "2023-03-24T12:50:26.524855Z",
     "shell.execute_reply.started": "2023-03-24T12:50:26.520429Z"
    },
    "papermill": {
     "duration": 0.022539,
     "end_time": "2023-03-24T16:50:18.288198",
     "exception": false,
     "start_time": "2023-03-24T16:50:18.265659",
     "status": "completed"
    },
    "tags": []
   },
   "source": [
    "#### One-hot encoding\n",
    "Now we need to think about One-hot encoding...\n",
    "* 'Pclass': There is a natural ranking of the classes 1,2,3 so we will leave this as numerical\n",
    "* Likewise for 'SibSp', 'Parch', 'Age' and 'Fare'\n",
    "* This leaves 'Sex', 'Embarked', 'CabinFloor' and 'Title'.\n",
    "    * I have already seen that the categories for 'Sex' and 'CabinFloor' in the training data contain those from the test data. \n",
    "    * The 'Title' categories do have some differences.  We have access to the test data so we could make a new column for all possible titles but to maintain real-world accuracy we should build our models with only info from the training data. \n",
    "    * I think 'Embarked' has the same options but we will double check."
   ]
  },
  {
   "cell_type": "code",
   "execution_count": 32,
   "id": "538d6229",
   "metadata": {
    "execution": {
     "iopub.execute_input": "2023-03-24T16:50:18.337569Z",
     "iopub.status.busy": "2023-03-24T16:50:18.337122Z",
     "iopub.status.idle": "2023-03-24T16:50:18.347143Z",
     "shell.execute_reply": "2023-03-24T16:50:18.345533Z"
    },
    "papermill": {
     "duration": 0.037031,
     "end_time": "2023-03-24T16:50:18.350376",
     "exception": false,
     "start_time": "2023-03-24T16:50:18.313345",
     "status": "completed"
    },
    "tags": []
   },
   "outputs": [
    {
     "name": "stdout",
     "output_type": "stream",
     "text": [
      "S    644\n",
      "C    168\n",
      "Q     77\n",
      "Name: Embarked, dtype: int64\n",
      "S    270\n",
      "C    102\n",
      "Q     46\n",
      "Name: Embarked, dtype: int64\n"
     ]
    }
   ],
   "source": [
    "print(X_train['Embarked'].value_counts())\n",
    "print(X_test['Embarked'].value_counts())"
   ]
  },
  {
   "cell_type": "code",
   "execution_count": 33,
   "id": "b79094fb",
   "metadata": {
    "execution": {
     "iopub.execute_input": "2023-03-24T16:50:18.399401Z",
     "iopub.status.busy": "2023-03-24T16:50:18.398981Z",
     "iopub.status.idle": "2023-03-24T16:50:18.413310Z",
     "shell.execute_reply": "2023-03-24T16:50:18.412436Z"
    },
    "papermill": {
     "duration": 0.042098,
     "end_time": "2023-03-24T16:50:18.415957",
     "exception": false,
     "start_time": "2023-03-24T16:50:18.373859",
     "status": "completed"
    },
    "tags": []
   },
   "outputs": [
    {
     "name": "stdout",
     "output_type": "stream",
     "text": [
      "<class 'pandas.core.frame.DataFrame'>\n",
      "RangeIndex: 891 entries, 0 to 890\n",
      "Data columns (total 9 columns):\n",
      " #   Column      Non-Null Count  Dtype  \n",
      "---  ------      --------------  -----  \n",
      " 0   Pclass      891 non-null    int64  \n",
      " 1   Sex         891 non-null    object \n",
      " 2   Age         891 non-null    float64\n",
      " 3   SibSp       891 non-null    int64  \n",
      " 4   Parch       891 non-null    int64  \n",
      " 5   Fare        891 non-null    float64\n",
      " 6   Embarked    889 non-null    object \n",
      " 7   CabinFloor  891 non-null    object \n",
      " 8   Title       891 non-null    object \n",
      "dtypes: float64(2), int64(3), object(4)\n",
      "memory usage: 62.8+ KB\n"
     ]
    }
   ],
   "source": [
    "X_train.info()"
   ]
  },
  {
   "cell_type": "code",
   "execution_count": 34,
   "id": "740f0d62",
   "metadata": {
    "execution": {
     "iopub.execute_input": "2023-03-24T16:50:18.465093Z",
     "iopub.status.busy": "2023-03-24T16:50:18.464337Z",
     "iopub.status.idle": "2023-03-24T16:50:18.478474Z",
     "shell.execute_reply": "2023-03-24T16:50:18.476898Z"
    },
    "papermill": {
     "duration": 0.041765,
     "end_time": "2023-03-24T16:50:18.481462",
     "exception": false,
     "start_time": "2023-03-24T16:50:18.439697",
     "status": "completed"
    },
    "tags": []
   },
   "outputs": [
    {
     "name": "stdout",
     "output_type": "stream",
     "text": [
      "<class 'pandas.core.frame.DataFrame'>\n",
      "RangeIndex: 418 entries, 0 to 417\n",
      "Data columns (total 9 columns):\n",
      " #   Column      Non-Null Count  Dtype  \n",
      "---  ------      --------------  -----  \n",
      " 0   Pclass      418 non-null    int64  \n",
      " 1   Sex         418 non-null    object \n",
      " 2   Age         418 non-null    float64\n",
      " 3   SibSp       418 non-null    int64  \n",
      " 4   Parch       418 non-null    int64  \n",
      " 5   Fare        417 non-null    float64\n",
      " 6   Embarked    418 non-null    object \n",
      " 7   CabinFloor  418 non-null    object \n",
      " 8   Title       418 non-null    object \n",
      "dtypes: float64(2), int64(3), object(4)\n",
      "memory usage: 29.5+ KB\n"
     ]
    }
   ],
   "source": [
    "X_test.info()"
   ]
  },
  {
   "cell_type": "markdown",
   "id": "07434b37",
   "metadata": {
    "papermill": {
     "duration": 0.023131,
     "end_time": "2023-03-24T16:50:18.528167",
     "exception": false,
     "start_time": "2023-03-24T16:50:18.505036",
     "status": "completed"
    },
    "tags": []
   },
   "source": [
    "2 things:\n",
    "* There are some null 'Embarked' values in our training data, which is not an issue\n",
    "* There is a single null value in our test data under fare, which we will fix using the median fare from the training data. "
   ]
  },
  {
   "cell_type": "code",
   "execution_count": 35,
   "id": "3efa85f8",
   "metadata": {
    "execution": {
     "iopub.execute_input": "2023-03-24T16:50:18.576384Z",
     "iopub.status.busy": "2023-03-24T16:50:18.575965Z",
     "iopub.status.idle": "2023-03-24T16:50:18.591314Z",
     "shell.execute_reply": "2023-03-24T16:50:18.589652Z"
    },
    "papermill": {
     "duration": 0.043139,
     "end_time": "2023-03-24T16:50:18.594221",
     "exception": false,
     "start_time": "2023-03-24T16:50:18.551082",
     "status": "completed"
    },
    "tags": []
   },
   "outputs": [
    {
     "name": "stdout",
     "output_type": "stream",
     "text": [
      "<class 'pandas.core.frame.DataFrame'>\n",
      "RangeIndex: 418 entries, 0 to 417\n",
      "Data columns (total 9 columns):\n",
      " #   Column      Non-Null Count  Dtype  \n",
      "---  ------      --------------  -----  \n",
      " 0   Pclass      418 non-null    int64  \n",
      " 1   Sex         418 non-null    object \n",
      " 2   Age         418 non-null    float64\n",
      " 3   SibSp       418 non-null    int64  \n",
      " 4   Parch       418 non-null    int64  \n",
      " 5   Fare        418 non-null    float64\n",
      " 6   Embarked    418 non-null    object \n",
      " 7   CabinFloor  418 non-null    object \n",
      " 8   Title       418 non-null    object \n",
      "dtypes: float64(2), int64(3), object(4)\n",
      "memory usage: 29.5+ KB\n"
     ]
    }
   ],
   "source": [
    "X_test['Fare'] = X_test.Fare.fillna(X_train.Fare.median())\n",
    "X_test.info()"
   ]
  },
  {
   "cell_type": "code",
   "execution_count": 36,
   "id": "91283a14",
   "metadata": {
    "execution": {
     "iopub.execute_input": "2023-03-24T16:50:18.642906Z",
     "iopub.status.busy": "2023-03-24T16:50:18.642056Z",
     "iopub.status.idle": "2023-03-24T16:50:18.800773Z",
     "shell.execute_reply": "2023-03-24T16:50:18.799363Z"
    },
    "papermill": {
     "duration": 0.186397,
     "end_time": "2023-03-24T16:50:18.803786",
     "exception": false,
     "start_time": "2023-03-24T16:50:18.617389",
     "status": "completed"
    },
    "tags": []
   },
   "outputs": [],
   "source": [
    "from sklearn.preprocessing import OneHotEncoder"
   ]
  },
  {
   "cell_type": "code",
   "execution_count": 37,
   "id": "b21baf1b",
   "metadata": {
    "execution": {
     "iopub.execute_input": "2023-03-24T16:50:18.852835Z",
     "iopub.status.busy": "2023-03-24T16:50:18.852366Z",
     "iopub.status.idle": "2023-03-24T16:50:18.860778Z",
     "shell.execute_reply": "2023-03-24T16:50:18.859624Z"
    },
    "papermill": {
     "duration": 0.036293,
     "end_time": "2023-03-24T16:50:18.863239",
     "exception": false,
     "start_time": "2023-03-24T16:50:18.826946",
     "status": "completed"
    },
    "tags": []
   },
   "outputs": [
    {
     "data": {
      "text/plain": [
       "Index(['Pclass', 'Sex', 'Age', 'SibSp', 'Parch', 'Fare', 'Embarked',\n",
       "       'CabinFloor', 'Title'],\n",
       "      dtype='object')"
      ]
     },
     "execution_count": 37,
     "metadata": {},
     "output_type": "execute_result"
    }
   ],
   "source": [
    "X_train.columns"
   ]
  },
  {
   "cell_type": "code",
   "execution_count": 38,
   "id": "f30bcbc0",
   "metadata": {
    "execution": {
     "iopub.execute_input": "2023-03-24T16:50:18.911428Z",
     "iopub.status.busy": "2023-03-24T16:50:18.911030Z",
     "iopub.status.idle": "2023-03-24T16:50:18.932858Z",
     "shell.execute_reply": "2023-03-24T16:50:18.931905Z"
    },
    "papermill": {
     "duration": 0.048945,
     "end_time": "2023-03-24T16:50:18.935469",
     "exception": false,
     "start_time": "2023-03-24T16:50:18.886524",
     "status": "completed"
    },
    "tags": []
   },
   "outputs": [],
   "source": [
    "#One hot encode the training data\n",
    "onehotencoder = OneHotEncoder(handle_unknown='ignore')\n",
    "cat_feat = ['Sex', 'Embarked', 'CabinFloor' ,'Title']\n",
    "num_feat = ['Pclass','Age','SibSp','Parch','Fare']\n",
    "\n",
    "#fit to the training data\n",
    "onehotencoder.fit(X_train[cat_feat])\n",
    "\n",
    "#pull new column names\n",
    "new_columns = onehotencoder.get_feature_names_out(cat_feat)\n",
    "\n",
    "#transform and join back to X_train and X_test with new column names\n",
    "enc_data_train = pd.DataFrame(onehotencoder.transform(X_train[cat_feat]).toarray(), columns=new_columns)\n",
    "X_train = X_train[num_feat].join(enc_data_train)\n",
    "enc_data_test = pd.DataFrame(onehotencoder.transform(X_test[cat_feat]).toarray(), columns=new_columns)\n",
    "X_test = X_test[num_feat].join(enc_data_test)\n",
    "\n"
   ]
  },
  {
   "cell_type": "code",
   "execution_count": 39,
   "id": "1d49a145",
   "metadata": {
    "execution": {
     "iopub.execute_input": "2023-03-24T16:50:18.984976Z",
     "iopub.status.busy": "2023-03-24T16:50:18.984131Z",
     "iopub.status.idle": "2023-03-24T16:50:18.990917Z",
     "shell.execute_reply": "2023-03-24T16:50:18.989822Z"
    },
    "papermill": {
     "duration": 0.033928,
     "end_time": "2023-03-24T16:50:18.993414",
     "exception": false,
     "start_time": "2023-03-24T16:50:18.959486",
     "status": "completed"
    },
    "tags": []
   },
   "outputs": [
    {
     "data": {
      "text/plain": [
       "Index(['Pclass', 'Age', 'SibSp', 'Parch', 'Fare', 'Sex_female', 'Sex_male',\n",
       "       'Embarked_C', 'Embarked_Q', 'Embarked_S', 'Embarked_nan',\n",
       "       'CabinFloor_A', 'CabinFloor_B', 'CabinFloor_C', 'CabinFloor_D',\n",
       "       'CabinFloor_E', 'CabinFloor_F', 'CabinFloor_G', 'CabinFloor_T',\n",
       "       'CabinFloor_n', 'Title_Capt', 'Title_Col', 'Title_Don', 'Title_Dr',\n",
       "       'Title_Jonkheer', 'Title_Lady', 'Title_Major', 'Title_Master',\n",
       "       'Title_Miss', 'Title_Mlle', 'Title_Mme', 'Title_Mr', 'Title_Mrs',\n",
       "       'Title_Ms', 'Title_Rev', 'Title_Sir', 'Title_the Countess'],\n",
       "      dtype='object')"
      ]
     },
     "execution_count": 39,
     "metadata": {},
     "output_type": "execute_result"
    }
   ],
   "source": [
    "X_train.columns"
   ]
  },
  {
   "cell_type": "code",
   "execution_count": 40,
   "id": "4cf9556c",
   "metadata": {
    "execution": {
     "iopub.execute_input": "2023-03-24T16:50:19.043598Z",
     "iopub.status.busy": "2023-03-24T16:50:19.042897Z",
     "iopub.status.idle": "2023-03-24T16:50:19.049423Z",
     "shell.execute_reply": "2023-03-24T16:50:19.048481Z"
    },
    "papermill": {
     "duration": 0.033986,
     "end_time": "2023-03-24T16:50:19.051617",
     "exception": false,
     "start_time": "2023-03-24T16:50:19.017631",
     "status": "completed"
    },
    "tags": []
   },
   "outputs": [
    {
     "data": {
      "text/plain": [
       "Index(['Pclass', 'Age', 'SibSp', 'Parch', 'Fare', 'Sex_female', 'Sex_male',\n",
       "       'Embarked_C', 'Embarked_Q', 'Embarked_S', 'Embarked_nan',\n",
       "       'CabinFloor_A', 'CabinFloor_B', 'CabinFloor_C', 'CabinFloor_D',\n",
       "       'CabinFloor_E', 'CabinFloor_F', 'CabinFloor_G', 'CabinFloor_T',\n",
       "       'CabinFloor_n', 'Title_Capt', 'Title_Col', 'Title_Don', 'Title_Dr',\n",
       "       'Title_Jonkheer', 'Title_Lady', 'Title_Major', 'Title_Master',\n",
       "       'Title_Miss', 'Title_Mlle', 'Title_Mme', 'Title_Mr', 'Title_Mrs',\n",
       "       'Title_Ms', 'Title_Rev', 'Title_Sir', 'Title_the Countess'],\n",
       "      dtype='object')"
      ]
     },
     "execution_count": 40,
     "metadata": {},
     "output_type": "execute_result"
    }
   ],
   "source": [
    "X_test.columns"
   ]
  },
  {
   "cell_type": "markdown",
   "id": "3ee7ee63",
   "metadata": {
    "papermill": {
     "duration": 0.024326,
     "end_time": "2023-03-24T16:50:19.099362",
     "exception": false,
     "start_time": "2023-03-24T16:50:19.075036",
     "status": "completed"
    },
    "tags": []
   },
   "source": [
    "#### Start building a pipeline to use on our models"
   ]
  },
  {
   "cell_type": "markdown",
   "id": "37e178ec",
   "metadata": {
    "papermill": {
     "duration": 0.022807,
     "end_time": "2023-03-24T16:50:19.147089",
     "exception": false,
     "start_time": "2023-03-24T16:50:19.124282",
     "status": "completed"
    },
    "tags": []
   },
   "source": [
    "We would like the pipeline to do the following:\n",
    "* Scale the data (MinMaxScaler(), StandardScaler(), or RandomScaler())\n",
    "* Fit a model"
   ]
  },
  {
   "cell_type": "code",
   "execution_count": 41,
   "id": "1695597b",
   "metadata": {
    "execution": {
     "iopub.execute_input": "2023-03-24T16:50:19.196159Z",
     "iopub.status.busy": "2023-03-24T16:50:19.195381Z",
     "iopub.status.idle": "2023-03-24T16:50:19.599529Z",
     "shell.execute_reply": "2023-03-24T16:50:19.598232Z"
    },
    "papermill": {
     "duration": 0.432245,
     "end_time": "2023-03-24T16:50:19.602564",
     "exception": false,
     "start_time": "2023-03-24T16:50:19.170319",
     "status": "completed"
    },
    "tags": []
   },
   "outputs": [],
   "source": [
    "from sklearn.pipeline import Pipeline\n",
    "from sklearn.preprocessing import StandardScaler\n",
    "from sklearn.metrics import accuracy_score, confusion_matrix\n",
    "from sklearn.naive_bayes import GaussianNB\n",
    "from sklearn.svm import SVC\n",
    "from sklearn.neighbors import KNeighborsClassifier\n",
    "from xgboost import XGBClassifier\n",
    "from sklearn.model_selection import GridSearchCV, cross_val_score\n",
    "from sklearn.ensemble import RandomForestClassifier\n"
   ]
  },
  {
   "cell_type": "code",
   "execution_count": 42,
   "id": "d7c1195c",
   "metadata": {
    "execution": {
     "iopub.execute_input": "2023-03-24T16:50:19.650913Z",
     "iopub.status.busy": "2023-03-24T16:50:19.650495Z",
     "iopub.status.idle": "2023-03-24T16:50:19.659610Z",
     "shell.execute_reply": "2023-03-24T16:50:19.658280Z"
    },
    "papermill": {
     "duration": 0.036152,
     "end_time": "2023-03-24T16:50:19.662097",
     "exception": false,
     "start_time": "2023-03-24T16:50:19.625945",
     "status": "completed"
    },
    "tags": []
   },
   "outputs": [],
   "source": [
    "df_results = pd.DataFrame(columns=['Model','Score'])\n",
    "df_results['Model']=['GNB','SVC','KNN','XGB','RFC']"
   ]
  },
  {
   "cell_type": "code",
   "execution_count": 43,
   "id": "52778016",
   "metadata": {
    "execution": {
     "iopub.execute_input": "2023-03-24T16:50:19.711258Z",
     "iopub.status.busy": "2023-03-24T16:50:19.710860Z",
     "iopub.status.idle": "2023-03-24T16:50:19.716705Z",
     "shell.execute_reply": "2023-03-24T16:50:19.715447Z"
    },
    "papermill": {
     "duration": 0.03377,
     "end_time": "2023-03-24T16:50:19.719339",
     "exception": false,
     "start_time": "2023-03-24T16:50:19.685569",
     "status": "completed"
    },
    "tags": []
   },
   "outputs": [],
   "source": [
    "pipeline = Pipeline([('scaler', StandardScaler()), ('model','passthrough')])"
   ]
  },
  {
   "cell_type": "code",
   "execution_count": 44,
   "id": "c346e8dc",
   "metadata": {
    "execution": {
     "iopub.execute_input": "2023-03-24T16:50:19.769881Z",
     "iopub.status.busy": "2023-03-24T16:50:19.768641Z",
     "iopub.status.idle": "2023-03-24T16:50:19.840059Z",
     "shell.execute_reply": "2023-03-24T16:50:19.838813Z"
    },
    "papermill": {
     "duration": 0.098617,
     "end_time": "2023-03-24T16:50:19.842566",
     "exception": false,
     "start_time": "2023-03-24T16:50:19.743949",
     "status": "completed"
    },
    "tags": []
   },
   "outputs": [
    {
     "data": {
      "text/html": [
       "<div>\n",
       "<style scoped>\n",
       "    .dataframe tbody tr th:only-of-type {\n",
       "        vertical-align: middle;\n",
       "    }\n",
       "\n",
       "    .dataframe tbody tr th {\n",
       "        vertical-align: top;\n",
       "    }\n",
       "\n",
       "    .dataframe thead th {\n",
       "        text-align: right;\n",
       "    }\n",
       "</style>\n",
       "<table border=\"1\" class=\"dataframe\">\n",
       "  <thead>\n",
       "    <tr style=\"text-align: right;\">\n",
       "      <th></th>\n",
       "      <th>Model</th>\n",
       "      <th>Score</th>\n",
       "    </tr>\n",
       "  </thead>\n",
       "  <tbody>\n",
       "    <tr>\n",
       "      <th>0</th>\n",
       "      <td>GNB</td>\n",
       "      <td>0.693591</td>\n",
       "    </tr>\n",
       "    <tr>\n",
       "      <th>1</th>\n",
       "      <td>SVC</td>\n",
       "      <td>NaN</td>\n",
       "    </tr>\n",
       "    <tr>\n",
       "      <th>2</th>\n",
       "      <td>KNN</td>\n",
       "      <td>NaN</td>\n",
       "    </tr>\n",
       "    <tr>\n",
       "      <th>3</th>\n",
       "      <td>XGB</td>\n",
       "      <td>NaN</td>\n",
       "    </tr>\n",
       "    <tr>\n",
       "      <th>4</th>\n",
       "      <td>RFC</td>\n",
       "      <td>NaN</td>\n",
       "    </tr>\n",
       "  </tbody>\n",
       "</table>\n",
       "</div>"
      ],
      "text/plain": [
       "  Model     Score\n",
       "0   GNB  0.693591\n",
       "1   SVC       NaN\n",
       "2   KNN       NaN\n",
       "3   XGB       NaN\n",
       "4   RFC       NaN"
      ]
     },
     "execution_count": 44,
     "metadata": {},
     "output_type": "execute_result"
    }
   ],
   "source": [
    "param_gnb = [\n",
    "    {\n",
    "        'model':[GaussianNB()],\n",
    "    }\n",
    "]\n",
    "grid_gnb = GridSearchCV(pipeline, param_grid=param_gnb, cv=5, scoring='accuracy')\n",
    "grid_gnb.fit(X_train,y_train.values.ravel())\n",
    "\n",
    "df_results['Score'][0] = grid_gnb.best_score_\n",
    "df_results"
   ]
  },
  {
   "cell_type": "code",
   "execution_count": 45,
   "id": "74b555b1",
   "metadata": {
    "execution": {
     "iopub.execute_input": "2023-03-24T16:50:19.893146Z",
     "iopub.status.busy": "2023-03-24T16:50:19.891938Z",
     "iopub.status.idle": "2023-03-24T16:50:20.685858Z",
     "shell.execute_reply": "2023-03-24T16:50:20.684266Z"
    },
    "papermill": {
     "duration": 0.821968,
     "end_time": "2023-03-24T16:50:20.688637",
     "exception": false,
     "start_time": "2023-03-24T16:50:19.866669",
     "status": "completed"
    },
    "tags": []
   },
   "outputs": [
    {
     "name": "stdout",
     "output_type": "stream",
     "text": [
      "{'model': SVC(random_state=2), 'model__kernel': 'rbf'}\n"
     ]
    },
    {
     "data": {
      "text/html": [
       "<div>\n",
       "<style scoped>\n",
       "    .dataframe tbody tr th:only-of-type {\n",
       "        vertical-align: middle;\n",
       "    }\n",
       "\n",
       "    .dataframe tbody tr th {\n",
       "        vertical-align: top;\n",
       "    }\n",
       "\n",
       "    .dataframe thead th {\n",
       "        text-align: right;\n",
       "    }\n",
       "</style>\n",
       "<table border=\"1\" class=\"dataframe\">\n",
       "  <thead>\n",
       "    <tr style=\"text-align: right;\">\n",
       "      <th></th>\n",
       "      <th>Model</th>\n",
       "      <th>Score</th>\n",
       "    </tr>\n",
       "  </thead>\n",
       "  <tbody>\n",
       "    <tr>\n",
       "      <th>0</th>\n",
       "      <td>GNB</td>\n",
       "      <td>0.693591</td>\n",
       "    </tr>\n",
       "    <tr>\n",
       "      <th>1</th>\n",
       "      <td>SVC</td>\n",
       "      <td>0.822654</td>\n",
       "    </tr>\n",
       "    <tr>\n",
       "      <th>2</th>\n",
       "      <td>KNN</td>\n",
       "      <td>NaN</td>\n",
       "    </tr>\n",
       "    <tr>\n",
       "      <th>3</th>\n",
       "      <td>XGB</td>\n",
       "      <td>NaN</td>\n",
       "    </tr>\n",
       "    <tr>\n",
       "      <th>4</th>\n",
       "      <td>RFC</td>\n",
       "      <td>NaN</td>\n",
       "    </tr>\n",
       "  </tbody>\n",
       "</table>\n",
       "</div>"
      ],
      "text/plain": [
       "  Model     Score\n",
       "0   GNB  0.693591\n",
       "1   SVC  0.822654\n",
       "2   KNN       NaN\n",
       "3   XGB       NaN\n",
       "4   RFC       NaN"
      ]
     },
     "execution_count": 45,
     "metadata": {},
     "output_type": "execute_result"
    }
   ],
   "source": [
    "param_svc = [\n",
    "    {\n",
    "        'model':[SVC(random_state=2)],\n",
    "        'model__kernel':['linear','poly','rbf','sigmoid']\n",
    "    }\n",
    "]\n",
    "grid_svc = GridSearchCV(pipeline, param_grid=param_svc, cv=5, scoring='accuracy')\n",
    "grid_svc.fit(X_train,y_train.values.ravel())\n",
    "\n",
    "print(grid_svc.best_params_)\n",
    "df_results['Score'][1] = grid_svc.best_score_\n",
    "df_results"
   ]
  },
  {
   "cell_type": "code",
   "execution_count": 46,
   "id": "21e95aa6",
   "metadata": {
    "execution": {
     "iopub.execute_input": "2023-03-24T16:50:20.739862Z",
     "iopub.status.busy": "2023-03-24T16:50:20.739404Z",
     "iopub.status.idle": "2023-03-24T16:50:23.307338Z",
     "shell.execute_reply": "2023-03-24T16:50:23.306484Z"
    },
    "papermill": {
     "duration": 2.596935,
     "end_time": "2023-03-24T16:50:23.310000",
     "exception": false,
     "start_time": "2023-03-24T16:50:20.713065",
     "status": "completed"
    },
    "tags": []
   },
   "outputs": [
    {
     "data": {
      "text/plain": [
       "GridSearchCV(cv=5,\n",
       "             estimator=Pipeline(steps=[('scaler', StandardScaler()),\n",
       "                                       ('model', 'passthrough')]),\n",
       "             param_grid=[{'model': [KNeighborsClassifier(n_neighbors=6)],\n",
       "                          'model__algorithm': ['auto', 'ball_tree', 'kd_tree'],\n",
       "                          'model__n_neighbors': [2, 3, 4, 5, 6, 7]}],\n",
       "             scoring='accuracy')"
      ]
     },
     "execution_count": 46,
     "metadata": {},
     "output_type": "execute_result"
    }
   ],
   "source": [
    "param_knn = [\n",
    "    {\n",
    "        'model':[KNeighborsClassifier()],\n",
    "        'model__n_neighbors':[2,3,4,5,6,7],\n",
    "        'model__algorithm':['auto','ball_tree','kd_tree']\n",
    "    }\n",
    "]\n",
    "grid_knn = GridSearchCV(pipeline, param_grid=param_knn, cv=5, scoring='accuracy')\n",
    "grid_knn.fit(X_train,y_train.values.ravel())\n",
    "\n"
   ]
  },
  {
   "cell_type": "code",
   "execution_count": 47,
   "id": "59d17d0b",
   "metadata": {
    "execution": {
     "iopub.execute_input": "2023-03-24T16:50:23.361768Z",
     "iopub.status.busy": "2023-03-24T16:50:23.360704Z",
     "iopub.status.idle": "2023-03-24T16:50:23.372984Z",
     "shell.execute_reply": "2023-03-24T16:50:23.371594Z"
    },
    "papermill": {
     "duration": 0.040887,
     "end_time": "2023-03-24T16:50:23.375759",
     "exception": false,
     "start_time": "2023-03-24T16:50:23.334872",
     "status": "completed"
    },
    "tags": []
   },
   "outputs": [
    {
     "name": "stdout",
     "output_type": "stream",
     "text": [
      "{'model': KNeighborsClassifier(n_neighbors=6), 'model__algorithm': 'auto', 'model__n_neighbors': 6}\n"
     ]
    },
    {
     "data": {
      "text/html": [
       "<div>\n",
       "<style scoped>\n",
       "    .dataframe tbody tr th:only-of-type {\n",
       "        vertical-align: middle;\n",
       "    }\n",
       "\n",
       "    .dataframe tbody tr th {\n",
       "        vertical-align: top;\n",
       "    }\n",
       "\n",
       "    .dataframe thead th {\n",
       "        text-align: right;\n",
       "    }\n",
       "</style>\n",
       "<table border=\"1\" class=\"dataframe\">\n",
       "  <thead>\n",
       "    <tr style=\"text-align: right;\">\n",
       "      <th></th>\n",
       "      <th>Model</th>\n",
       "      <th>Score</th>\n",
       "    </tr>\n",
       "  </thead>\n",
       "  <tbody>\n",
       "    <tr>\n",
       "      <th>0</th>\n",
       "      <td>GNB</td>\n",
       "      <td>0.693591</td>\n",
       "    </tr>\n",
       "    <tr>\n",
       "      <th>1</th>\n",
       "      <td>SVC</td>\n",
       "      <td>0.822654</td>\n",
       "    </tr>\n",
       "    <tr>\n",
       "      <th>2</th>\n",
       "      <td>KNN</td>\n",
       "      <td>0.819296</td>\n",
       "    </tr>\n",
       "    <tr>\n",
       "      <th>3</th>\n",
       "      <td>XGB</td>\n",
       "      <td>NaN</td>\n",
       "    </tr>\n",
       "    <tr>\n",
       "      <th>4</th>\n",
       "      <td>RFC</td>\n",
       "      <td>NaN</td>\n",
       "    </tr>\n",
       "  </tbody>\n",
       "</table>\n",
       "</div>"
      ],
      "text/plain": [
       "  Model     Score\n",
       "0   GNB  0.693591\n",
       "1   SVC  0.822654\n",
       "2   KNN  0.819296\n",
       "3   XGB       NaN\n",
       "4   RFC       NaN"
      ]
     },
     "execution_count": 47,
     "metadata": {},
     "output_type": "execute_result"
    }
   ],
   "source": [
    "print(grid_knn.best_params_)\n",
    "df_results['Score'][2] = grid_knn.best_score_\n",
    "df_results"
   ]
  },
  {
   "cell_type": "code",
   "execution_count": 48,
   "id": "f5391b9a",
   "metadata": {
    "execution": {
     "iopub.execute_input": "2023-03-24T16:50:23.427846Z",
     "iopub.status.busy": "2023-03-24T16:50:23.427245Z",
     "iopub.status.idle": "2023-03-24T16:57:21.675067Z",
     "shell.execute_reply": "2023-03-24T16:57:21.673829Z"
    },
    "papermill": {
     "duration": 418.300687,
     "end_time": "2023-03-24T16:57:21.701808",
     "exception": false,
     "start_time": "2023-03-24T16:50:23.401121",
     "status": "completed"
    },
    "tags": []
   },
   "outputs": [
    {
     "data": {
      "text/plain": [
       "GridSearchCV(cv=5,\n",
       "             estimator=Pipeline(steps=[('scaler', StandardScaler()),\n",
       "                                       ('model', 'passthrough')]),\n",
       "             param_grid=[{'model': [XGBClassifier(base_score=None, booster=None,\n",
       "                                                  callbacks=None,\n",
       "                                                  colsample_bylevel=None,\n",
       "                                                  colsample_bynode=None,\n",
       "                                                  colsample_bytree=None,\n",
       "                                                  early_stopping_rounds=None,\n",
       "                                                  enable_categorical=False,\n",
       "                                                  eta=0.2, eval_metric=None,\n",
       "                                                  gamma=None, gpu_id=None,\n",
       "                                                  grow_...\n",
       "                                                  max_delta_step=None,\n",
       "                                                  max_depth=4, max_leaves=None,\n",
       "                                                  min_child_weight=3,\n",
       "                                                  missing=nan,\n",
       "                                                  monotone_constraints=None,\n",
       "                                                  n_estimators=100, n_jobs=None,\n",
       "                                                  num_parallel_tree=None,\n",
       "                                                  predictor=None,\n",
       "                                                  random_state=None,\n",
       "                                                  reg_alpha=None, ...)],\n",
       "                          'model__eta': [0.01, 0.05, 0.1, 0.15, 0.2, 0.25, 0.3],\n",
       "                          'model__max_depth': [3, 4, 5, 6, 7, 8, 9, 10],\n",
       "                          'model__min_child_weight': [1, 2, 3]}],\n",
       "             scoring='accuracy')"
      ]
     },
     "execution_count": 48,
     "metadata": {},
     "output_type": "execute_result"
    }
   ],
   "source": [
    "param_xgb = [\n",
    "    {\n",
    "        'model':[XGBClassifier()],\n",
    "        'model__eta':[.01,.05,.1,.15,.2,.25,.3],\n",
    "        'model__min_child_weight':[1,2,3],\n",
    "        'model__max_depth':[3,4,5,6,7,8,9,10]\n",
    "    }\n",
    "]\n",
    "grid_xgb = GridSearchCV(pipeline, param_grid=param_xgb, cv=5, scoring='accuracy')\n",
    "grid_xgb.fit(X_train,y_train.values.ravel())\n",
    "\n"
   ]
  },
  {
   "cell_type": "code",
   "execution_count": 49,
   "id": "e951a079",
   "metadata": {
    "execution": {
     "iopub.execute_input": "2023-03-24T16:57:21.752270Z",
     "iopub.status.busy": "2023-03-24T16:57:21.751871Z",
     "iopub.status.idle": "2023-03-24T16:57:21.765107Z",
     "shell.execute_reply": "2023-03-24T16:57:21.763953Z"
    },
    "papermill": {
     "duration": 0.042756,
     "end_time": "2023-03-24T16:57:21.768976",
     "exception": false,
     "start_time": "2023-03-24T16:57:21.726220",
     "status": "completed"
    },
    "tags": []
   },
   "outputs": [
    {
     "name": "stdout",
     "output_type": "stream",
     "text": [
      "{'model': XGBClassifier(base_score=None, booster=None, callbacks=None,\n",
      "              colsample_bylevel=None, colsample_bynode=None,\n",
      "              colsample_bytree=None, early_stopping_rounds=None,\n",
      "              enable_categorical=False, eta=0.2, eval_metric=None, gamma=None,\n",
      "              gpu_id=None, grow_policy=None, importance_type=None,\n",
      "              interaction_constraints=None, learning_rate=None, max_bin=None,\n",
      "              max_cat_to_onehot=None, max_delta_step=None, max_depth=4,\n",
      "              max_leaves=None, min_child_weight=3, missing=nan,\n",
      "              monotone_constraints=None, n_estimators=100, n_jobs=None,\n",
      "              num_parallel_tree=None, predictor=None, random_state=None,\n",
      "              reg_alpha=None, ...), 'model__eta': 0.2, 'model__max_depth': 4, 'model__min_child_weight': 3}\n"
     ]
    },
    {
     "data": {
      "text/html": [
       "<div>\n",
       "<style scoped>\n",
       "    .dataframe tbody tr th:only-of-type {\n",
       "        vertical-align: middle;\n",
       "    }\n",
       "\n",
       "    .dataframe tbody tr th {\n",
       "        vertical-align: top;\n",
       "    }\n",
       "\n",
       "    .dataframe thead th {\n",
       "        text-align: right;\n",
       "    }\n",
       "</style>\n",
       "<table border=\"1\" class=\"dataframe\">\n",
       "  <thead>\n",
       "    <tr style=\"text-align: right;\">\n",
       "      <th></th>\n",
       "      <th>Model</th>\n",
       "      <th>Score</th>\n",
       "    </tr>\n",
       "  </thead>\n",
       "  <tbody>\n",
       "    <tr>\n",
       "      <th>0</th>\n",
       "      <td>GNB</td>\n",
       "      <td>0.693591</td>\n",
       "    </tr>\n",
       "    <tr>\n",
       "      <th>1</th>\n",
       "      <td>SVC</td>\n",
       "      <td>0.822654</td>\n",
       "    </tr>\n",
       "    <tr>\n",
       "      <th>2</th>\n",
       "      <td>KNN</td>\n",
       "      <td>0.819296</td>\n",
       "    </tr>\n",
       "    <tr>\n",
       "      <th>3</th>\n",
       "      <td>XGB</td>\n",
       "      <td>0.844009</td>\n",
       "    </tr>\n",
       "    <tr>\n",
       "      <th>4</th>\n",
       "      <td>RFC</td>\n",
       "      <td>NaN</td>\n",
       "    </tr>\n",
       "  </tbody>\n",
       "</table>\n",
       "</div>"
      ],
      "text/plain": [
       "  Model     Score\n",
       "0   GNB  0.693591\n",
       "1   SVC  0.822654\n",
       "2   KNN  0.819296\n",
       "3   XGB  0.844009\n",
       "4   RFC       NaN"
      ]
     },
     "execution_count": 49,
     "metadata": {},
     "output_type": "execute_result"
    }
   ],
   "source": [
    "print(grid_xgb.best_params_)\n",
    "df_results['Score'][3] = grid_xgb.best_score_\n",
    "df_results"
   ]
  },
  {
   "cell_type": "code",
   "execution_count": 50,
   "id": "0e58b05b",
   "metadata": {
    "execution": {
     "iopub.execute_input": "2023-03-24T16:57:21.821175Z",
     "iopub.status.busy": "2023-03-24T16:57:21.820694Z",
     "iopub.status.idle": "2023-03-24T16:57:40.937881Z",
     "shell.execute_reply": "2023-03-24T16:57:40.936766Z"
    },
    "papermill": {
     "duration": 19.1468,
     "end_time": "2023-03-24T16:57:40.940868",
     "exception": false,
     "start_time": "2023-03-24T16:57:21.794068",
     "status": "completed"
    },
    "tags": []
   },
   "outputs": [
    {
     "name": "stderr",
     "output_type": "stream",
     "text": [
      "/opt/conda/lib/python3.7/site-packages/sklearn/model_selection/_validation.py:372: FitFailedWarning: \n",
      "25 fits failed out of a total of 75.\n",
      "The score on these train-test partitions for these parameters will be set to nan.\n",
      "If these failures are not expected, you can try to debug them by setting error_score='raise'.\n",
      "\n",
      "Below are more details about the failures:\n",
      "--------------------------------------------------------------------------------\n",
      "25 fits failed with the following error:\n",
      "Traceback (most recent call last):\n",
      "  File \"/opt/conda/lib/python3.7/site-packages/sklearn/model_selection/_validation.py\", line 680, in _fit_and_score\n",
      "    estimator.fit(X_train, y_train, **fit_params)\n",
      "  File \"/opt/conda/lib/python3.7/site-packages/sklearn/pipeline.py\", line 394, in fit\n",
      "    self._final_estimator.fit(Xt, y, **fit_params_last_step)\n",
      "  File \"/opt/conda/lib/python3.7/site-packages/sklearn/ensemble/_forest.py\", line 467, in fit\n",
      "    for i, t in enumerate(trees)\n",
      "  File \"/opt/conda/lib/python3.7/site-packages/joblib/parallel.py\", line 1041, in __call__\n",
      "    if self.dispatch_one_batch(iterator):\n",
      "  File \"/opt/conda/lib/python3.7/site-packages/joblib/parallel.py\", line 859, in dispatch_one_batch\n",
      "    self._dispatch(tasks)\n",
      "  File \"/opt/conda/lib/python3.7/site-packages/joblib/parallel.py\", line 777, in _dispatch\n",
      "    job = self._backend.apply_async(batch, callback=cb)\n",
      "  File \"/opt/conda/lib/python3.7/site-packages/joblib/_parallel_backends.py\", line 208, in apply_async\n",
      "    result = ImmediateResult(func)\n",
      "  File \"/opt/conda/lib/python3.7/site-packages/joblib/_parallel_backends.py\", line 572, in __init__\n",
      "    self.results = batch()\n",
      "  File \"/opt/conda/lib/python3.7/site-packages/joblib/parallel.py\", line 263, in __call__\n",
      "    for func, args, kwargs in self.items]\n",
      "  File \"/opt/conda/lib/python3.7/site-packages/joblib/parallel.py\", line 263, in <listcomp>\n",
      "    for func, args, kwargs in self.items]\n",
      "  File \"/opt/conda/lib/python3.7/site-packages/sklearn/utils/fixes.py\", line 216, in __call__\n",
      "    return self.function(*args, **kwargs)\n",
      "  File \"/opt/conda/lib/python3.7/site-packages/sklearn/ensemble/_forest.py\", line 185, in _parallel_build_trees\n",
      "    tree.fit(X, y, sample_weight=curr_sample_weight, check_input=False)\n",
      "  File \"/opt/conda/lib/python3.7/site-packages/sklearn/tree/_classes.py\", line 942, in fit\n",
      "    X_idx_sorted=X_idx_sorted,\n",
      "  File \"/opt/conda/lib/python3.7/site-packages/sklearn/tree/_classes.py\", line 352, in fit\n",
      "    criterion = CRITERIA_CLF[self.criterion](\n",
      "KeyError: 'log_loss'\n",
      "\n",
      "  warnings.warn(some_fits_failed_message, FitFailedWarning)\n",
      "/opt/conda/lib/python3.7/site-packages/sklearn/model_selection/_search.py:972: UserWarning: One or more of the test scores are non-finite: [0.79461427 0.79684891 0.79910866 0.79685519 0.79686147 0.79349696\n",
      " 0.79796623 0.79572532 0.79462055 0.80134329        nan        nan\n",
      "        nan        nan        nan]\n",
      "  category=UserWarning,\n"
     ]
    },
    {
     "data": {
      "text/plain": [
       "GridSearchCV(cv=5,\n",
       "             estimator=Pipeline(steps=[('scaler', StandardScaler()),\n",
       "                                       ('model', 'passthrough')]),\n",
       "             param_grid=[{'model': [RandomForestClassifier(criterion='entropy',\n",
       "                                                           n_estimators=200)],\n",
       "                          'model__criterion': ['gini', 'entropy', 'log_loss'],\n",
       "                          'model__n_estimators': [100, 140, 160, 180, 200]}],\n",
       "             scoring='accuracy')"
      ]
     },
     "execution_count": 50,
     "metadata": {},
     "output_type": "execute_result"
    }
   ],
   "source": [
    "param_rfc = [\n",
    "    {\n",
    "        'model':[RandomForestClassifier()],\n",
    "        'model__n_estimators':[100,140,160,180,200],\n",
    "        'model__criterion':['gini','entropy','log_loss']\n",
    "    }\n",
    "]\n",
    "grid_rfc = GridSearchCV(pipeline, param_grid=param_rfc, cv=5, scoring='accuracy')\n",
    "grid_rfc.fit(X_train,y_train.values.ravel())"
   ]
  },
  {
   "cell_type": "code",
   "execution_count": 51,
   "id": "2e658481",
   "metadata": {
    "execution": {
     "iopub.execute_input": "2023-03-24T16:57:40.992846Z",
     "iopub.status.busy": "2023-03-24T16:57:40.992428Z",
     "iopub.status.idle": "2023-03-24T16:57:41.005516Z",
     "shell.execute_reply": "2023-03-24T16:57:41.003502Z"
    },
    "papermill": {
     "duration": 0.042069,
     "end_time": "2023-03-24T16:57:41.008149",
     "exception": false,
     "start_time": "2023-03-24T16:57:40.966080",
     "status": "completed"
    },
    "tags": []
   },
   "outputs": [
    {
     "name": "stdout",
     "output_type": "stream",
     "text": [
      "{'model': RandomForestClassifier(criterion='entropy', n_estimators=200), 'model__criterion': 'entropy', 'model__n_estimators': 200}\n"
     ]
    },
    {
     "data": {
      "text/html": [
       "<div>\n",
       "<style scoped>\n",
       "    .dataframe tbody tr th:only-of-type {\n",
       "        vertical-align: middle;\n",
       "    }\n",
       "\n",
       "    .dataframe tbody tr th {\n",
       "        vertical-align: top;\n",
       "    }\n",
       "\n",
       "    .dataframe thead th {\n",
       "        text-align: right;\n",
       "    }\n",
       "</style>\n",
       "<table border=\"1\" class=\"dataframe\">\n",
       "  <thead>\n",
       "    <tr style=\"text-align: right;\">\n",
       "      <th></th>\n",
       "      <th>Model</th>\n",
       "      <th>Score</th>\n",
       "    </tr>\n",
       "  </thead>\n",
       "  <tbody>\n",
       "    <tr>\n",
       "      <th>0</th>\n",
       "      <td>GNB</td>\n",
       "      <td>0.693591</td>\n",
       "    </tr>\n",
       "    <tr>\n",
       "      <th>1</th>\n",
       "      <td>SVC</td>\n",
       "      <td>0.822654</td>\n",
       "    </tr>\n",
       "    <tr>\n",
       "      <th>2</th>\n",
       "      <td>KNN</td>\n",
       "      <td>0.819296</td>\n",
       "    </tr>\n",
       "    <tr>\n",
       "      <th>3</th>\n",
       "      <td>XGB</td>\n",
       "      <td>0.844009</td>\n",
       "    </tr>\n",
       "    <tr>\n",
       "      <th>4</th>\n",
       "      <td>RFC</td>\n",
       "      <td>0.801343</td>\n",
       "    </tr>\n",
       "  </tbody>\n",
       "</table>\n",
       "</div>"
      ],
      "text/plain": [
       "  Model     Score\n",
       "0   GNB  0.693591\n",
       "1   SVC  0.822654\n",
       "2   KNN  0.819296\n",
       "3   XGB  0.844009\n",
       "4   RFC  0.801343"
      ]
     },
     "execution_count": 51,
     "metadata": {},
     "output_type": "execute_result"
    }
   ],
   "source": [
    "print(grid_rfc.best_params_)\n",
    "df_results['Score'][4] = grid_rfc.best_score_\n",
    "df_results"
   ]
  },
  {
   "cell_type": "code",
   "execution_count": 52,
   "id": "db0f7a99",
   "metadata": {
    "execution": {
     "iopub.execute_input": "2023-03-24T16:57:41.061638Z",
     "iopub.status.busy": "2023-03-24T16:57:41.060576Z",
     "iopub.status.idle": "2023-03-24T16:57:41.251618Z",
     "shell.execute_reply": "2023-03-24T16:57:41.250443Z"
    },
    "papermill": {
     "duration": 0.220113,
     "end_time": "2023-03-24T16:57:41.254371",
     "exception": false,
     "start_time": "2023-03-24T16:57:41.034258",
     "status": "completed"
    },
    "tags": []
   },
   "outputs": [],
   "source": [
    "gnb_prediction = grid_gnb.predict(X_test)\n",
    "svc_prediction = grid_svc.predict(X_test)\n",
    "knn_prediction = grid_knn.predict(X_test)\n",
    "xgb_prediction = grid_xgb.predict(X_test)\n",
    "rfc_prediction = grid_rfc.predict(X_test)"
   ]
  },
  {
   "cell_type": "code",
   "execution_count": 53,
   "id": "ed7986b8",
   "metadata": {
    "execution": {
     "iopub.execute_input": "2023-03-24T16:57:41.310984Z",
     "iopub.status.busy": "2023-03-24T16:57:41.310207Z",
     "iopub.status.idle": "2023-03-24T16:57:41.317630Z",
     "shell.execute_reply": "2023-03-24T16:57:41.316715Z"
    },
    "papermill": {
     "duration": 0.040228,
     "end_time": "2023-03-24T16:57:41.320021",
     "exception": false,
     "start_time": "2023-03-24T16:57:41.279793",
     "status": "completed"
    },
    "tags": []
   },
   "outputs": [
    {
     "data": {
      "text/plain": [
       "array([0, 1, 0, 1, 2, 0, 2, 0, 4, 0, 0, 0, 5, 0, 5, 4, 0, 1, 2, 3, 0, 4,\n",
       "       4, 0, 5, 0, 5, 1, 1, 0, 0, 0, 3, 1, 2, 1, 1, 2, 0, 3, 0, 2, 0, 4,\n",
       "       5, 0, 0, 0, 5, 4, 0, 0, 3, 5, 0, 0, 0, 1, 0, 5, 0, 0, 0, 4, 5, 4,\n",
       "       4, 0, 0, 5, 4, 0, 2, 3, 5, 0, 0, 4, 0, 4, 4, 0, 0, 0, 0, 0, 4, 2,\n",
       "       5, 4, 2, 0, 5, 0, 0, 0, 4, 0, 2, 0, 4, 0, 0, 0, 4, 0, 0, 0, 0, 1,\n",
       "       0, 4, 2, 3, 5, 0, 0, 5, 0, 4, 4, 0, 4, 0, 0, 4, 0, 4, 1, 0, 0, 2,\n",
       "       0, 0, 0, 0, 1, 0, 2, 0, 0, 4, 1, 0, 2, 0, 2, 0, 2, 0, 5, 0, 0, 4,\n",
       "       0, 0, 5, 2, 2, 3, 4, 4, 4, 0, 0, 1, 0, 0, 4, 1, 0, 1, 0, 0, 0, 4,\n",
       "       4, 0, 5, 5, 0, 4, 5, 0, 5, 0, 4, 0, 0, 0, 0, 0, 4, 0, 4, 0, 5, 3,\n",
       "       0, 2, 4, 4, 3, 4, 0, 0, 2, 0, 2, 0, 0, 0, 0, 3, 0, 0, 4, 0, 5, 0,\n",
       "       4, 0, 5, 1, 4, 2, 0, 4, 0, 0, 0, 4, 0, 0, 2, 0, 2, 1, 4, 5, 4, 4,\n",
       "       3, 0, 2, 1, 4, 0, 4, 2, 4, 0, 0, 0, 0, 0, 0, 0, 4, 0, 0, 0, 4, 4,\n",
       "       0, 0, 0, 0, 1, 0, 1, 0, 5, 4, 0, 4, 0, 0, 0, 0, 1, 4, 4, 2, 4, 0,\n",
       "       0, 1, 1, 0, 0, 2, 0, 1, 0, 0, 4, 0, 0, 0, 0, 1, 0, 0, 4, 5, 0, 4,\n",
       "       0, 1, 0, 1, 0, 2, 5, 4, 1, 0, 0, 0, 0, 2, 1, 2, 4, 0, 5, 0, 0, 0,\n",
       "       4, 1, 0, 4, 0, 0, 0, 0, 0, 4, 0, 0, 0, 5, 4, 3, 0, 4, 0, 4, 5, 0,\n",
       "       0, 0, 4, 2, 4, 0, 0, 4, 0, 4, 4, 1, 5, 1, 0, 1, 4, 1, 0, 5, 0, 1,\n",
       "       4, 5, 0, 0, 0, 0, 0, 0, 3, 2, 1, 4, 0, 0, 0, 0, 0, 5, 4, 0, 0, 4,\n",
       "       0, 5, 0, 0, 4, 0, 4, 0, 2, 3, 0, 0, 4, 4, 4, 4, 2, 0, 4, 0, 0, 4])"
      ]
     },
     "execution_count": 53,
     "metadata": {},
     "output_type": "execute_result"
    }
   ],
   "source": [
    "total_prediction = gnb_prediction+svc_prediction+knn_prediction+xgb_prediction+rfc_prediction\n",
    "total_prediction"
   ]
  },
  {
   "cell_type": "code",
   "execution_count": 54,
   "id": "f8b0ddd5",
   "metadata": {
    "execution": {
     "iopub.execute_input": "2023-03-24T16:57:41.372984Z",
     "iopub.status.busy": "2023-03-24T16:57:41.372250Z",
     "iopub.status.idle": "2023-03-24T16:57:41.380548Z",
     "shell.execute_reply": "2023-03-24T16:57:41.379702Z"
    },
    "papermill": {
     "duration": 0.037609,
     "end_time": "2023-03-24T16:57:41.383049",
     "exception": false,
     "start_time": "2023-03-24T16:57:41.345440",
     "status": "completed"
    },
    "tags": []
   },
   "outputs": [
    {
     "data": {
      "text/plain": [
       "array([0, 0, 0, 0, 0, 0, 0, 0, 1, 0, 0, 0, 1, 0, 1, 1, 0, 0, 0, 1, 0, 1,\n",
       "       1, 0, 1, 0, 1, 0, 0, 0, 0, 0, 1, 0, 0, 0, 0, 0, 0, 1, 0, 0, 0, 1,\n",
       "       1, 0, 0, 0, 1, 1, 0, 0, 1, 1, 0, 0, 0, 0, 0, 1, 0, 0, 0, 1, 1, 1,\n",
       "       1, 0, 0, 1, 1, 0, 0, 1, 1, 0, 0, 1, 0, 1, 1, 0, 0, 0, 0, 0, 1, 0,\n",
       "       1, 1, 0, 0, 1, 0, 0, 0, 1, 0, 0, 0, 1, 0, 0, 0, 1, 0, 0, 0, 0, 0,\n",
       "       0, 1, 0, 1, 1, 0, 0, 1, 0, 1, 1, 0, 1, 0, 0, 1, 0, 1, 0, 0, 0, 0,\n",
       "       0, 0, 0, 0, 0, 0, 0, 0, 0, 1, 0, 0, 0, 0, 0, 0, 0, 0, 1, 0, 0, 1,\n",
       "       0, 0, 1, 0, 0, 1, 1, 1, 1, 0, 0, 0, 0, 0, 1, 0, 0, 0, 0, 0, 0, 1,\n",
       "       1, 0, 1, 1, 0, 1, 1, 0, 1, 0, 1, 0, 0, 0, 0, 0, 1, 0, 1, 0, 1, 1,\n",
       "       0, 0, 1, 1, 1, 1, 0, 0, 0, 0, 0, 0, 0, 0, 0, 1, 0, 0, 1, 0, 1, 0,\n",
       "       1, 0, 1, 0, 1, 0, 0, 1, 0, 0, 0, 1, 0, 0, 0, 0, 0, 0, 1, 1, 1, 1,\n",
       "       1, 0, 0, 0, 1, 0, 1, 0, 1, 0, 0, 0, 0, 0, 0, 0, 1, 0, 0, 0, 1, 1,\n",
       "       0, 0, 0, 0, 0, 0, 0, 0, 1, 1, 0, 1, 0, 0, 0, 0, 0, 1, 1, 0, 1, 0,\n",
       "       0, 0, 0, 0, 0, 0, 0, 0, 0, 0, 1, 0, 0, 0, 0, 0, 0, 0, 1, 1, 0, 1,\n",
       "       0, 0, 0, 0, 0, 0, 1, 1, 0, 0, 0, 0, 0, 0, 0, 0, 1, 0, 1, 0, 0, 0,\n",
       "       1, 0, 0, 1, 0, 0, 0, 0, 0, 1, 0, 0, 0, 1, 1, 1, 0, 1, 0, 1, 1, 0,\n",
       "       0, 0, 1, 0, 1, 0, 0, 1, 0, 1, 1, 0, 1, 0, 0, 0, 1, 0, 0, 1, 0, 0,\n",
       "       1, 1, 0, 0, 0, 0, 0, 0, 1, 0, 0, 1, 0, 0, 0, 0, 0, 1, 1, 0, 0, 1,\n",
       "       0, 1, 0, 0, 1, 0, 1, 0, 0, 1, 0, 0, 1, 1, 1, 1, 0, 0, 1, 0, 0, 1])"
      ]
     },
     "execution_count": 54,
     "metadata": {},
     "output_type": "execute_result"
    }
   ],
   "source": [
    "#build a new submission combining votes with equal weight from all models\n",
    "for i,x in enumerate(total_prediction):\n",
    "    if x > 2:\n",
    "        total_prediction[i] = 1\n",
    "    else:\n",
    "        total_prediction[i] = 0\n",
    "total_prediction"
   ]
  },
  {
   "cell_type": "code",
   "execution_count": 55,
   "id": "f2adb147",
   "metadata": {
    "execution": {
     "iopub.execute_input": "2023-03-24T16:57:41.437653Z",
     "iopub.status.busy": "2023-03-24T16:57:41.436534Z",
     "iopub.status.idle": "2023-03-24T16:57:41.460337Z",
     "shell.execute_reply": "2023-03-24T16:57:41.459298Z"
    },
    "papermill": {
     "duration": 0.053408,
     "end_time": "2023-03-24T16:57:41.462618",
     "exception": false,
     "start_time": "2023-03-24T16:57:41.409210",
     "status": "completed"
    },
    "tags": []
   },
   "outputs": [
    {
     "name": "stdout",
     "output_type": "stream",
     "text": [
      "Your GNB submission was saved successfully!\n",
      "Your SVC submission was saved successfully!\n",
      "Your KNN submission was saved successfully!\n",
      "Your XGB submission was saved successfully!\n",
      "Your RFC submission was saved successfully!\n",
      "Your TOTAL submission was saved successfully!\n"
     ]
    }
   ],
   "source": [
    "#Output submission files\n",
    "gnb_output = pd.DataFrame({'PassengerId': titanic_test.PassengerId, 'Survived' : gnb_prediction})\n",
    "gnb_output.to_csv('submission_gnb.csv', index = False)\n",
    "print(\"Your GNB submission was saved successfully!\")\n",
    "svc_output = pd.DataFrame({'PassengerId': titanic_test.PassengerId, 'Survived' : svc_prediction})\n",
    "svc_output.to_csv('submission_svc.csv', index = False)\n",
    "print(\"Your SVC submission was saved successfully!\")\n",
    "knn_output = pd.DataFrame({'PassengerId': titanic_test.PassengerId, 'Survived' : knn_prediction})\n",
    "knn_output.to_csv('submission_knn.csv', index = False)\n",
    "print(\"Your KNN submission was saved successfully!\")\n",
    "xgb_output = pd.DataFrame({'PassengerId': titanic_test.PassengerId, 'Survived' : xgb_prediction})\n",
    "xgb_output.to_csv('submission_xgb.csv', index = False)\n",
    "print(\"Your XGB submission was saved successfully!\")\n",
    "rfc_output = pd.DataFrame({'PassengerId': titanic_test.PassengerId, 'Survived' : rfc_prediction})\n",
    "rfc_output.to_csv('submission_rfc.csv', index = False)\n",
    "print(\"Your RFC submission was saved successfully!\")\n",
    "total_output = pd.DataFrame({'PassengerId': titanic_test.PassengerId, 'Survived' : total_prediction})\n",
    "total_output.to_csv('submission_total.csv', index = False)\n",
    "print(\"Your TOTAL submission was saved successfully!\")"
   ]
  },
  {
   "cell_type": "code",
   "execution_count": null,
   "id": "26981729",
   "metadata": {
    "papermill": {
     "duration": 0.02495,
     "end_time": "2023-03-24T16:57:41.512972",
     "exception": false,
     "start_time": "2023-03-24T16:57:41.488022",
     "status": "completed"
    },
    "tags": []
   },
   "outputs": [],
   "source": []
  }
 ],
 "metadata": {
  "kernelspec": {
   "display_name": "Python 3",
   "language": "python",
   "name": "python3"
  },
  "language_info": {
   "codemirror_mode": {
    "name": "ipython",
    "version": 3
   },
   "file_extension": ".py",
   "mimetype": "text/x-python",
   "name": "python",
   "nbconvert_exporter": "python",
   "pygments_lexer": "ipython3",
   "version": "3.7.12"
  },
  "papermill": {
   "default_parameters": {},
   "duration": 487.179961,
   "end_time": "2023-03-24T16:57:42.564828",
   "environment_variables": {},
   "exception": null,
   "input_path": "__notebook__.ipynb",
   "output_path": "__notebook__.ipynb",
   "parameters": {},
   "start_time": "2023-03-24T16:49:35.384867",
   "version": "2.3.4"
  }
 },
 "nbformat": 4,
 "nbformat_minor": 5
}
